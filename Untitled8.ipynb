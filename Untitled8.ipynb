{
 "cells": [
  {
   "cell_type": "markdown",
   "id": "1c763b5f",
   "metadata": {},
   "source": [
    "## Importing libraries\n",
    "### Used UCL ML Repository"
   ]
  },
  {
   "cell_type": "code",
   "execution_count": 543,
   "id": "992f6fe3",
   "metadata": {},
   "outputs": [
    {
     "data": {
      "text/html": [
       "<div>\n",
       "<style scoped>\n",
       "    .dataframe tbody tr th:only-of-type {\n",
       "        vertical-align: middle;\n",
       "    }\n",
       "\n",
       "    .dataframe tbody tr th {\n",
       "        vertical-align: top;\n",
       "    }\n",
       "\n",
       "    .dataframe thead th {\n",
       "        text-align: right;\n",
       "    }\n",
       "</style>\n",
       "<table border=\"1\" class=\"dataframe\">\n",
       "  <thead>\n",
       "    <tr style=\"text-align: right;\">\n",
       "      <th></th>\n",
       "      <th>Unnamed: 0</th>\n",
       "      <th>drugName</th>\n",
       "      <th>condition</th>\n",
       "      <th>review</th>\n",
       "      <th>rating</th>\n",
       "      <th>date</th>\n",
       "      <th>usefulCount</th>\n",
       "    </tr>\n",
       "  </thead>\n",
       "  <tbody>\n",
       "    <tr>\n",
       "      <th>0</th>\n",
       "      <td>206461</td>\n",
       "      <td>Valsartan</td>\n",
       "      <td>Left Ventricular Dysfunction</td>\n",
       "      <td>\"It has no side effect, I take it in combination of Bystolic 5 Mg and Fish Oil\"</td>\n",
       "      <td>9.0</td>\n",
       "      <td>May 20, 2012</td>\n",
       "      <td>27</td>\n",
       "    </tr>\n",
       "    <tr>\n",
       "      <th>1</th>\n",
       "      <td>95260</td>\n",
       "      <td>Guanfacine</td>\n",
       "      <td>ADHD</td>\n",
       "      <td>\"My son is halfway through his fourth week of Intuniv. We became concerned when he began this last week, when he started taking the highest dose he will be on. For two days, he could hardly get out of bed, was very cranky, and slept for nearly 8 hours on a drive home from school vacation (very unusual for him.) I called his doctor on Monday morning and she said to stick it out a few days. See how he did at school, and with getting up in the morning. The last two days have been problem free. He is MUCH more agreeable than ever. He is less emotional (a good thing), less cranky. He is remembering all the things he should. Overall his behavior is better. \\r\\nWe have tried many different medications and so far this is the most effective.\"</td>\n",
       "      <td>8.0</td>\n",
       "      <td>April 27, 2010</td>\n",
       "      <td>192</td>\n",
       "    </tr>\n",
       "    <tr>\n",
       "      <th>2</th>\n",
       "      <td>92703</td>\n",
       "      <td>Lybrel</td>\n",
       "      <td>Birth Control</td>\n",
       "      <td>\"I used to take another oral contraceptive, which had 21 pill cycle, and was very happy- very light periods, max 5 days, no other side effects. But it contained hormone gestodene, which is not available in US, so I switched to Lybrel, because the ingredients are similar. When my other pills ended, I started Lybrel immediately, on my first day of period, as the instructions said. And the period lasted for two weeks. When taking the second pack- same two weeks. And now, with third pack things got even worse- my third period lasted for two weeks and now it&amp;#039;s the end of the third week- I still have daily brown discharge.\\r\\nThe positive side is that I didn&amp;#039;t have any other side effects. The idea of being period free was so tempting... Alas.\"</td>\n",
       "      <td>5.0</td>\n",
       "      <td>December 14, 2009</td>\n",
       "      <td>17</td>\n",
       "    </tr>\n",
       "    <tr>\n",
       "      <th>3</th>\n",
       "      <td>138000</td>\n",
       "      <td>Ortho Evra</td>\n",
       "      <td>Birth Control</td>\n",
       "      <td>\"This is my first time using any form of birth control. I&amp;#039;m glad I went with the patch, I have been on it for 8 months. At first It decreased my libido but that subsided. The only downside is that it made my periods longer (5-6 days to be exact) I used to only have periods for 3-4 days max also made my cramps intense for the first two days of my period, I never had cramps before using birth control. Other than that in happy with the patch\"</td>\n",
       "      <td>8.0</td>\n",
       "      <td>November 3, 2015</td>\n",
       "      <td>10</td>\n",
       "    </tr>\n",
       "    <tr>\n",
       "      <th>4</th>\n",
       "      <td>35696</td>\n",
       "      <td>Buprenorphine / naloxone</td>\n",
       "      <td>Opiate Dependence</td>\n",
       "      <td>\"Suboxone has completely turned my life around.  I feel healthier, I&amp;#039;m excelling at my job and I always have money in my pocket and my savings account.  I had none of those before Suboxone and spent years abusing oxycontin.  My paycheck was already spent by the time I got it and I started resorting to scheming and stealing to fund my addiction.  All that is history.  If you&amp;#039;re ready to stop, there&amp;#039;s a good chance that suboxone will put you on the path of great life again.  I have found the side-effects to be minimal compared to oxycontin.  I&amp;#039;m actually sleeping better.   Slight constipation is about it for me.  It truly is amazing. The cost pales in comparison to what I spent on oxycontin.\"</td>\n",
       "      <td>9.0</td>\n",
       "      <td>November 27, 2016</td>\n",
       "      <td>37</td>\n",
       "    </tr>\n",
       "  </tbody>\n",
       "</table>\n",
       "</div>"
      ],
      "text/plain": [
       "   Unnamed: 0                  drugName                     condition  \\\n",
       "0  206461      Valsartan                 Left Ventricular Dysfunction   \n",
       "1  95260       Guanfacine                ADHD                           \n",
       "2  92703       Lybrel                    Birth Control                  \n",
       "3  138000      Ortho Evra                Birth Control                  \n",
       "4  35696       Buprenorphine / naloxone  Opiate Dependence              \n",
       "\n",
       "                                                                                                                                                                                                                                                                                                                                                                                                                                                                                                                                                                                                                                                                                                                                                                                  review  \\\n",
       "0  \"It has no side effect, I take it in combination of Bystolic 5 Mg and Fish Oil\"                                                                                                                                                                                                                                                                                                                                                                                                                                                                                                                                                                                                                                                                                                         \n",
       "1  \"My son is halfway through his fourth week of Intuniv. We became concerned when he began this last week, when he started taking the highest dose he will be on. For two days, he could hardly get out of bed, was very cranky, and slept for nearly 8 hours on a drive home from school vacation (very unusual for him.) I called his doctor on Monday morning and she said to stick it out a few days. See how he did at school, and with getting up in the morning. The last two days have been problem free. He is MUCH more agreeable than ever. He is less emotional (a good thing), less cranky. He is remembering all the things he should. Overall his behavior is better. \\r\\nWe have tried many different medications and so far this is the most effective.\"                 \n",
       "2  \"I used to take another oral contraceptive, which had 21 pill cycle, and was very happy- very light periods, max 5 days, no other side effects. But it contained hormone gestodene, which is not available in US, so I switched to Lybrel, because the ingredients are similar. When my other pills ended, I started Lybrel immediately, on my first day of period, as the instructions said. And the period lasted for two weeks. When taking the second pack- same two weeks. And now, with third pack things got even worse- my third period lasted for two weeks and now it&#039;s the end of the third week- I still have daily brown discharge.\\r\\nThe positive side is that I didn&#039;t have any other side effects. The idea of being period free was so tempting... Alas.\"   \n",
       "3  \"This is my first time using any form of birth control. I&#039;m glad I went with the patch, I have been on it for 8 months. At first It decreased my libido but that subsided. The only downside is that it made my periods longer (5-6 days to be exact) I used to only have periods for 3-4 days max also made my cramps intense for the first two days of my period, I never had cramps before using birth control. Other than that in happy with the patch\"                                                                                                                                                                                                                                                                                                                        \n",
       "4  \"Suboxone has completely turned my life around.  I feel healthier, I&#039;m excelling at my job and I always have money in my pocket and my savings account.  I had none of those before Suboxone and spent years abusing oxycontin.  My paycheck was already spent by the time I got it and I started resorting to scheming and stealing to fund my addiction.  All that is history.  If you&#039;re ready to stop, there&#039;s a good chance that suboxone will put you on the path of great life again.  I have found the side-effects to be minimal compared to oxycontin.  I&#039;m actually sleeping better.   Slight constipation is about it for me.  It truly is amazing. The cost pales in comparison to what I spent on oxycontin.\"                                         \n",
       "\n",
       "   rating               date  usefulCount  \n",
       "0  9.0     May 20, 2012       27           \n",
       "1  8.0     April 27, 2010     192          \n",
       "2  5.0     December 14, 2009  17           \n",
       "3  8.0     November 3, 2015   10           \n",
       "4  9.0     November 27, 2016  37           "
      ]
     },
     "execution_count": 543,
     "metadata": {},
     "output_type": "execute_result"
    }
   ],
   "source": [
    "import pandas as pd\n",
    "import itertools # confusion matrix\n",
    "import string\n",
    "import numpy as np\n",
    "import seaborn as sns\n",
    "from sklearn.feature_extraction.text import CountVectorizer, TfidfVectorizer\n",
    "from sklearn.model_selection import train_test_split\n",
    "from sklearn.linear_model import PassiveAggressiveClassifier\n",
    "from sklearn.naive_bayes import MultinomialNB\n",
    "from sklearn import metrics\n",
    "import matplotlib.pyplot as plt\n",
    "%matplotlib inline\n",
    "# To show all the rows of pandas dataframe\n",
    "pd.set_option('display.max_rows', None)\n",
    "\n",
    "df = pd.read_csv('drugsComTrain_raw.tsv', sep='\\t')\n",
    "df.head()"
   ]
  },
  {
   "cell_type": "markdown",
   "id": "d6997acb",
   "metadata": {},
   "source": [
    "## Exploratory Data Analysis"
   ]
  },
  {
   "cell_type": "code",
   "execution_count": 544,
   "id": "2e2f794f",
   "metadata": {},
   "outputs": [
    {
     "data": {
      "text/plain": [
       "Birth Control                                                          28788\n",
       "Depression                                                             9069 \n",
       "Pain                                                                   6145 \n",
       "Anxiety                                                                5904 \n",
       "Acne                                                                   5588 \n",
       "Bipolar Disorde                                                        4224 \n",
       "Insomnia                                                               3673 \n",
       "Weight Loss                                                            3609 \n",
       "Obesity                                                                3568 \n",
       "ADHD                                                                   3383 \n",
       "Diabetes, Type 2                                                       2554 \n",
       "Emergency Contraception                                                2463 \n",
       "High Blood Pressure                                                    2321 \n",
       "Vaginal Yeast Infection                                                2274 \n",
       "Abnormal Uterine Bleeding                                              2096 \n",
       "Bowel Preparation                                                      1859 \n",
       "ibromyalgia                                                            1791 \n",
       "Smoking Cessation                                                      1780 \n",
       "Migraine                                                               1694 \n",
       "Anxiety and Stress                                                     1663 \n",
       "Major Depressive Disorde                                               1607 \n",
       "Constipation                                                           1595 \n",
       "Panic Disorde                                                          1463 \n",
       "Chronic Pain                                                           1455 \n",
       "Migraine Prevention                                                    1413 \n",
       "Urinary Tract Infection                                                1316 \n",
       "Muscle Spasm                                                           1244 \n",
       "Osteoarthritis                                                         1239 \n",
       "Generalized Anxiety Disorde                                            1164 \n",
       "Erectile Dysfunction                                                   1086 \n",
       "Opiate Dependence                                                      1079 \n",
       "Irritable Bowel Syndrome                                               1014 \n",
       "Rheumatoid Arthritis                                                   995  \n",
       "Allergic Rhinitis                                                      973  \n",
       "Bacterial Infection                                                    945  \n",
       "Cough                                                                  927  \n",
       "Sinusitis                                                              835  \n",
       "Nausea/Vomiting                                                        747  \n",
       "GERD                                                                   722  \n",
       "Multiple Sclerosis                                                     698  \n",
       "Overactive Bladde                                                      683  \n",
       "Hyperhidrosis                                                          677  \n",
       "Hepatitis C                                                            656  \n",
       "Back Pain                                                              616  \n",
       "HIV Infection                                                          615  \n",
       "High Cholesterol                                                       611  \n",
       "Psoriasis                                                              598  \n",
       "Schizophrenia                                                          594  \n",
       "Constipation, Chronic                                                  591  \n",
       "Obsessive Compulsive Disorde                                           579  \n",
       "Restless Legs Syndrome                                                 565  \n",
       "Benign Prostatic Hyperplasia                                           561  \n",
       "Endometriosis                                                          558  \n",
       "Bronchitis                                                             550  \n",
       "Bacterial Vaginitis                                                    524  \n",
       "Rosacea                                                                519  \n",
       "Seizures                                                               508  \n",
       "Narcolepsy                                                             506  \n",
       "Hypogonadism, Male                                                     502  \n",
       "Asthma, Maintenance                                                    501  \n",
       "Headache                                                               473  \n",
       "Underactive Thyroid                                                    449  \n",
       "Not Listed / Othe                                                      439  \n",
       "Schizoaffective Disorde                                                396  \n",
       "Onychomycosis, Toenail                                                 396  \n",
       "Bladder Infection                                                      395  \n",
       "Social Anxiety Disorde                                                 389  \n",
       "Alcohol Dependence                                                     388  \n",
       "Herpes Simplex                                                         386  \n",
       "Osteoporosis                                                           372  \n",
       "Cold Sores                                                             367  \n",
       "Epilepsy                                                               358  \n",
       "Cough and Nasal Congestion                                             356  \n",
       "Influenza                                                              350  \n",
       "Menstrual Disorders                                                    350  \n",
       "Plaque Psoriasis                                                       332  \n",
       "Opiate Withdrawal                                                      327  \n",
       "Psoriatic Arthritis                                                    324  \n",
       "Post Traumatic Stress Disorde                                          314  \n",
       "Postmenopausal Symptoms                                                313  \n",
       "Polycystic Ovary Syndrome                                              309  \n",
       "Inflammatory Conditions                                                303  \n",
       "Premenstrual Dysphoric Disorde                                         298  \n",
       "Nasal Congestion                                                       290  \n",
       "Pneumonia                                                              276  \n",
       "Chlamydia Infection                                                    273  \n",
       "Breast Cance                                                           272  \n",
       "Atrial Fibrillation                                                    272  \n",
       "Urticaria                                                              264  \n",
       "Helicobacter Pylori Infection                                          260  \n",
       "Hot Flashes                                                            255  \n",
       "Neuropathic Pain                                                       253  \n",
       "Anesthesia                                                             252  \n",
       "COPD, Maintenance                                                      250  \n",
       "Ulcerative Colitis                                                     238  \n",
       "Constipation, Drug Induced                                             228  \n",
       "Skin or Soft Tissue Infection                                          225  \n",
       "Asthma                                                                 225  \n",
       "Alcohol Withdrawal                                                     217  \n",
       "Ankylosing Spondylitis                                                 209  \n",
       "Motion Sickness                                                        203  \n",
       "Gout, Acute                                                            196  \n",
       "Crohn's Disease, Maintenance                                           192  \n",
       "mance Anxiety                                                          187  \n",
       "Seizure Prevention                                                     183  \n",
       "Atrophic Vaginitis                                                     182  \n",
       "Allergies                                                              179  \n",
       "Interstitial Cystitis                                                  178  \n",
       "Peripheral Neuropathy                                                  176  \n",
       "Diabetic Peripheral Neuropathy                                         175  \n",
       "Hashimoto's disease                                                    173  \n",
       "Upper Respiratory Tract Infection                                      171  \n",
       "Crohn's Disease                                                        168  \n",
       "Urinary Incontinence                                                   168  \n",
       "Herpes Simplex, Suppression                                            166  \n",
       "Eczema                                                                 166  \n",
       "Cluster Headaches                                                      166  \n",
       "Sedation                                                               165  \n",
       "Trigeminal Neuralgia                                                   162  \n",
       "Atopic Dermatitis                                                      162  \n",
       "Prevention of Thromboembolism in Atrial Fibrillation                   160  \n",
       "COPD                                                                   159  \n",
       "Ovarian Cysts                                                          152  \n",
       "Otitis Media                                                           152  \n",
       "Borderline Personality Disorde                                         151  \n",
       "Hypothyroidism, After Thyroid Removal                                  151  \n",
       "Dry Eye Disease                                                        147  \n",
       "Bacterial Skin Infection                                               146  \n",
       "Diverticulitis                                                         142  \n",
       "Diabetes, Type 1                                                       140  \n",
       "Period Pain                                                            139  \n",
       "Asthma, acute                                                          135  \n",
       "Ulcerative Colitis, Active                                             132  \n",
       "Sciatica                                                               124  \n",
       "Prostate Cance                                                         123  \n",
       "Nausea/Vomiting of Pregnancy                                           123  \n",
       "Parkinson's Disease                                                    120  \n",
       "Kidney Infections                                                      117  \n",
       "Cold Symptoms                                                          116  \n",
       "Diarrhea                                                               110  \n",
       "Strep Throat                                                           109  \n",
       "Tonsillitis/Pharyngitis                                                106  \n",
       "Keratosis                                                              106  \n",
       "Gout                                                                   105  \n",
       "0</span> users found this comment helpful.                             104  \n",
       "Breast Cancer, Metastatic                                              102  \n",
       "Human Papilloma Virus                                                  102  \n",
       "Dietary Supplementation                                                102  \n",
       "Urinary Tract Stones                                                   101  \n",
       "Vertig                                                                 101  \n",
       "Arrhythmia                                                             97   \n",
       "Renal Cell Carcinoma                                                   95   \n",
       "Systemic Lupus Erythematosus                                           95   \n",
       "Neuralgia                                                              94   \n",
       "Non-Small Cell Lung Cance                                              94   \n",
       "Angina                                                                 93   \n",
       "Dermatitis                                                             93   \n",
       "Edema                                                                  93   \n",
       "Amenorrhea                                                             92   \n",
       "Prostatitis                                                            91   \n",
       "Dental Abscess                                                         90   \n",
       "Autism                                                                 90   \n",
       "Benign Essential Trem                                                  89   \n",
       "Chronic Myelogenous Leukemia                                           89   \n",
       "Alopecia                                                               89   \n",
       "Heart Failure                                                          88   \n",
       "Muscle Pain                                                            88   \n",
       "Hemorrhoids                                                            88   \n",
       "Chronic Fatigue Syndrome                                               88   \n",
       "Sinus Symptoms                                                         86   \n",
       "Supraventricular Tachycardia                                           86   \n",
       "Deep Vein Thrombosis                                                   86   \n",
       "Alzheimer's Disease                                                    85   \n",
       "2</span> users found this comment helpful.                             85   \n",
       "Allergic Reactions                                                     85   \n",
       "Rhinitis                                                               84   \n",
       "3</span> users found this comment helpful.                             84   \n",
       "Postpartum Depression                                                  84   \n",
       "1</span> users found this comment helpful.                             83   \n",
       "Menorrhagia                                                            80   \n",
       "Obstructive Sleep Apnea/Hypopnea Syndrome                              80   \n",
       "Anorexia                                                               80   \n",
       "Nausea/Vomiting, Chemotherapy Induced                                  79   \n",
       "moterol)                                                               79   \n",
       "Dry Skin                                                               78   \n",
       "Premature Lab                                                          76   \n",
       "Vitamin/Mineral Supplementation during Pregnancy/Lactation             74   \n",
       "Hirsutism                                                              74   \n",
       "Barrett's Esophagus                                                    74   \n",
       "Psychosis                                                              73   \n",
       "Conjunctivitis, Allergic                                               73   \n",
       "Hypertriglyceridemia                                                   73   \n",
       "Dysuria                                                                73   \n",
       "Binge Eating Disorde                                                   72   \n",
       "Melasma                                                                72   \n",
       "Stomach Ulce                                                           72   \n",
       "Postherpetic Neuralgia                                                 71   \n",
       "Erosive Esophagitis                                                    70   \n",
       "Trichomoniasis                                                         70   \n",
       "Hypersomnia                                                            70   \n",
       "Sexual Dysfunction, SSRI Induced                                       69   \n",
       "Tourette's Syndrome                                                    68   \n",
       "Prevention of Bladder infection                                        68   \n",
       "Pulmonary Embolism                                                     68   \n",
       "Seasonal Allergic Conjunctivitis                                       68   \n",
       "Head Lice                                                              67   \n",
       "4</span> users found this comment helpful.                             66   \n",
       "emale Infertility                                                      65   \n",
       "Pulmonary Hypertension                                                 64   \n",
       "Conjunctivitis, Bacterial                                              62   \n",
       "High Cholesterol, Familial Heterozygous                                62   \n",
       "Pseudotumor Cerebri                                                    62   \n",
       "Light Sedation                                                         60   \n",
       "Shift Work Sleep Disorde                                               60   \n",
       "Chronic Idiopathic Constipation                                        60   \n",
       "Eye Redness                                                            59   \n",
       "Bulimia                                                                58   \n",
       "Glaucoma, Open Angle                                                   57   \n",
       "Cervical Dystonia                                                      56   \n",
       "Reflex Sympathetic Dystrophy Syndrome                                  55   \n",
       "Heart Attack                                                           55   \n",
       "Hyperprolactinemia                                                     54   \n",
       "Acute Coronary Syndrome                                                54   \n",
       "Keratoconjunctivitis Sicca                                             54   \n",
       "Basal Cell Carcinoma                                                   54   \n",
       "Skin and Structure Infection                                           53   \n",
       "atigue                                                                 53   \n",
       "Mania                                                                  53   \n",
       "Organ Transplant, Rejection Prophylaxis                                53   \n",
       "Raynaud's Syndrome                                                     50   \n",
       "Sjogren's Syndrome                                                     50   \n",
       "Perimenopausal Symptoms                                                50   \n",
       "Uterine Fibroids                                                       49   \n",
       "Indigestion                                                            48   \n",
       "Androgenetic Alopecia                                                  48   \n",
       "Diarrhea, Chronic                                                      47   \n",
       "Burns, External                                                        47   \n",
       "Crohn's Disease, Acute                                                 47   \n",
       "6</span> users found this comment helpful.                             46   \n",
       "min)                                                                   45   \n",
       "Malaria Prevention                                                     45   \n",
       "Ulcerative Colitis, Maintenance                                        45   \n",
       "Pruritus                                                               44   \n",
       "Opioid-Induced Constipation                                            44   \n",
       "Tendonitis                                                             43   \n",
       "Neutropenia Associated with Chemotherapy                               43   \n",
       "Periodic Limb Movement Disorde                                         43   \n",
       "Myasthenia Gravis                                                      40   \n",
       "5</span> users found this comment helpful.                             40   \n",
       "Gastroenteritis                                                        38   \n",
       "Dermatological Disorders                                               38   \n",
       "Agitated State                                                         38   \n",
       "Paranoid Disorde                                                       38   \n",
       "Postoperative Pain                                                     38   \n",
       "Colorectal Cance                                                       37   \n",
       "Clostridial Infection                                                  37   \n",
       "7</span> users found this comment helpful.                             37   \n",
       "Gastroparesis                                                          37   \n",
       "Constipation, Acute                                                    35   \n",
       "Vulvodynia                                                             35   \n",
       "Primary Immunodeficiency Syndrome                                      35   \n",
       "Lyme Disease                                                           35   \n",
       "Oophorectomy                                                           34   \n",
       "Eye Redness/Itching                                                    34   \n",
       "Glaucoma                                                               34   \n",
       "Iron Deficiency Anemia                                                 34   \n",
       "Tinnitus                                                               34   \n",
       "Gouty Arthritis                                                        34   \n",
       "ge (amlodipine / valsartan)                                            33   \n",
       "Breakthrough Pain                                                      33   \n",
       "Human Papillomavirus Prophylaxis                                       33   \n",
       "acial Wrinkles                                                         32   \n",
       "Condylomata Acuminata                                                  31   \n",
       "8</span> users found this comment helpful.                             31   \n",
       "Temporomandibular Joint Disorde                                        30   \n",
       "Influenza Prophylaxis                                                  30   \n",
       "Oral Thrush                                                            30   \n",
       "COPD, Acute                                                            30   \n",
       "9</span> users found this comment helpful.                             30   \n",
       "Seborrheic Dermatitis                                                  30   \n",
       "Ventricular Tachycardia                                                30   \n",
       "moterol / mometasone)                                                  29   \n",
       "Actinic Keratosis                                                      29   \n",
       "Duodenal Ulce                                                          29   \n",
       "Mitral Valve Prolapse                                                  29   \n",
       "Dysautonomia                                                           28   \n",
       "Cyclic Vomiting Syndrome                                               28   \n",
       "10</span> users found this comment helpful.                            28   \n",
       "Herbal Supplementation                                                 28   \n",
       "Light Anesthesia                                                       28   \n",
       "Insomnia, Stimulant-Associated                                         27   \n",
       "Hiccups                                                                27   \n",
       "Photoaging of the Skin                                                 27   \n",
       "Juvenile Rheumatoid Arthritis                                          26   \n",
       "Postural Orthostatic Tachycardia Syndrome                              26   \n",
       "min / sitagliptin)                                                     26   \n",
       "Otitis Externa                                                         26   \n",
       "Chronic Lymphocytic Leukemia                                           26   \n",
       "Night Terrors                                                          26   \n",
       "Tinea Corporis                                                         25   \n",
       "Nocturnal Leg Cramps                                                   25   \n",
       "Precocious Puberty                                                     25   \n",
       "Extrapyramidal Reaction                                                25   \n",
       "Herpes Zoste                                                           25   \n",
       "Pneumococcal Disease Prophylaxis                                       24   \n",
       "Postoperative Ocular Inflammation                                      24   \n",
       "Pharyngitis                                                            24   \n",
       "Inflammatory Bowel Disease                                             24   \n",
       "Labor Pain                                                             24   \n",
       "Atrophic Urethritis                                                    23   \n",
       "Vitamin/Mineral Supplementation and Deficiency                         23   \n",
       "Chronic Spasticity                                                     22   \n",
       "Skin Cance                                                             22   \n",
       "Allergic Urticaria                                                     22   \n",
       "Ischemic Stroke, Prophylaxis                                           22   \n",
       "Tinea Versicol                                                         22   \n",
       "Bone infection                                                         22   \n",
       "Melanoma, Metastatic                                                   21   \n",
       "Atrial Flutte                                                          21   \n",
       "Insulin Resistance Syndrome                                            21   \n",
       "Hyperphosphatemia of Renal Failure                                     21   \n",
       "13</span> users found this comment helpful.                            21   \n",
       "Swine Flu                                                              21   \n",
       "Tinea Pedis                                                            21   \n",
       "Hypoestrogenism                                                        21   \n",
       "Non-Hodgkin's Lymphoma                                                 20   \n",
       "Meniere's Disease                                                      20   \n",
       "Prevention of Osteoporosis                                             20   \n",
       "Angina Pectoris Prophylaxis                                            20   \n",
       "Lennox-Gastaut Syndrome                                                20   \n",
       "Left Ventricular Dysfunction                                           19   \n",
       "Vitamin D Deficiency                                                   19   \n",
       "Burning Mouth Syndrome                                                 19   \n",
       "Xerostomia                                                             19   \n",
       "Diabetic Kidney Disease                                                19   \n",
       "Methicillin-Resistant Staphylococcus Aureus Infection                  19   \n",
       "Gas                                                                    19   \n",
       "Malaria                                                                19   \n",
       "Breast Cancer, Adjuvant                                                19   \n",
       "Anemia                                                                 18   \n",
       "12</span> users found this comment helpful.                            18   \n",
       "Nightmares                                                             18   \n",
       "Lactose Intolerance                                                    18   \n",
       "Progesterone Insufficiency                                             18   \n",
       "Pseudobulbar Affect                                                    18   \n",
       "Diaper Rash                                                            18   \n",
       "Uveitis                                                                18   \n",
       "Nausea/Vomiting, Postoperative                                         18   \n",
       "Macular Degeneration                                                   17   \n",
       "Onychomycosis, Fingernail                                              17   \n",
       "Ovarian Cance                                                          17   \n",
       "Benzodiazepine Withdrawal                                              17   \n",
       "15</span> users found this comment helpful.                            17   \n",
       "Hereditary Angioedema                                                  17   \n",
       "Juvenile Idiopathic Arthritis                                          17   \n",
       "Myelodysplastic Syndrome                                               17   \n",
       "Multiple Myeloma                                                       17   \n",
       "Chronic Pancreatitis                                                   16   \n",
       "Soft Tissue Sarcoma                                                    16   \n",
       "Seasonal Affective Disorde                                             16   \n",
       "Ovulation Induction                                                    16   \n",
       "Undifferentiated Connective Tissue Disease                             16   \n",
       "Diagnosis and Investigation                                            15   \n",
       "Giardiasis                                                             15   \n",
       "Pancreatic Cance                                                       15   \n",
       "Primary Ovarian Failure                                                15   \n",
       "Lyme Disease, Neurologic                                               15   \n",
       "Expectoration                                                          14   \n",
       "Hyperlipoproteinemia                                                   14   \n",
       "zen Shoulde                                                            14   \n",
       "Deep Vein Thrombosis, Prophylaxis                                      14   \n",
       "Tinea Cruris                                                           14   \n",
       "16</span> users found this comment helpful.                            14   \n",
       "Diabetes Insipidus                                                     14   \n",
       "Trichotillomania                                                       14   \n",
       "Behcet's Disease                                                       14   \n",
       "14</span> users found this comment helpful.                            14   \n",
       "High Cholesterol, Familial Homozygous                                  14   \n",
       "Streptococcal Infection                                                14   \n",
       "17</span> users found this comment helpful.                            14   \n",
       "Dyspareunia                                                            13   \n",
       "20</span> users found this comment helpful.                            13   \n",
       "New Daily Persistent Headache                                          13   \n",
       "Pain/Feve                                                              13   \n",
       "Computed Tomography                                                    13   \n",
       "Ischemic Stroke                                                        13   \n",
       "Surgical Prophylaxis                                                   13   \n",
       "Hepatitis B                                                            13   \n",
       "Bronchiectasis                                                         13   \n",
       "Lichen Sclerosus                                                       13   \n",
       "Hypertensive Emergency                                                 13   \n",
       "Secondary Hyperparathyroidism                                          12   \n",
       "Intermittent Claudication                                              12   \n",
       "Conjunctivitis                                                         12   \n",
       "Cutaneous Candidiasis                                                  12   \n",
       "eve                                                                    12   \n",
       "mulation) (phenylephrine)                                              12   \n",
       "Autoimmune Hepatitis                                                   12   \n",
       "Nasal Polyps                                                           12   \n",
       "Skin Rash                                                              12   \n",
       "Anal Fissure and Fistula                                               12   \n",
       "Intraocular Hypertension                                               12   \n",
       "Hyperthyroidism                                                        12   \n",
       "Osteolytic Bone Metastases of Solid Tumors                             12   \n",
       "Persistent Depressive Disorde                                          12   \n",
       "Hyperlipoproteinemia Type IIa, Elevated LDL                            12   \n",
       "Asperger Syndrome                                                      12   \n",
       "Post-Cholecystectomy Diarrhea                                          12   \n",
       "Cystic Fibrosis                                                        12   \n",
       "Premenstrual Syndrome                                                  12   \n",
       "Lichen Planus                                                          11   \n",
       "Polycythemia Vera                                                      11   \n",
       "Scabies                                                                11   \n",
       "Prevention of Cardiovascular Disease                                   11   \n",
       "Bursitis                                                               11   \n",
       "Traveler's Diarrhea                                                    11   \n",
       "Dystonia                                                               11   \n",
       "18</span> users found this comment helpful.                            11   \n",
       "19</span> users found this comment helpful.                            11   \n",
       "Vitamin B12 Deficiency                                                 11   \n",
       "Addison's Disease                                                      11   \n",
       "Diarrhea, Acute                                                        11   \n",
       "Opiate Adjunct                                                         11   \n",
       "Chronic Myofascial Pain                                                10   \n",
       "min / saxagliptin)                                                     10   \n",
       "11</span> users found this comment helpful.                            10   \n",
       "Ulcerative Proctitis                                                   10   \n",
       "Adult Human Growth Hormone Deficiency                                  10   \n",
       "Thyroid Cance                                                          10   \n",
       "Prevention of Hypokalemia                                              10   \n",
       "Herpes Simplex, Mucocutaneous/Immunocompetent Host                     10   \n",
       "Opioid Overdose                                                        10   \n",
       "Impetig                                                                10   \n",
       "Tuberculosis, Latent                                                   10   \n",
       "Hypoparathyroidism                                                     9    \n",
       "21</span> users found this comment helpful.                            9    \n",
       "Intraabdominal Infection                                               9    \n",
       "Prevention of Dental Caries                                            9    \n",
       "Pelvic Inflammatory Disease                                            9    \n",
       "Sore Throat                                                            9    \n",
       "Dermatomyositis                                                        9    \n",
       "Pulmonary Embolism, Recurrent Event                                    9    \n",
       "Deep Vein Thrombosis, Recurrent Event                                  9    \n",
       "Local Anesthesia                                                       9    \n",
       "TSH Suppression                                                        9    \n",
       "23</span> users found this comment helpful.                            9    \n",
       "Menopausal Disorders                                                   9    \n",
       "Body Dysmorphic Disorde                                                9    \n",
       "Lactation Augmentation                                                 9    \n",
       "Deep Vein Thrombosis, First Event                                      9    \n",
       "Costochondritis                                                        9    \n",
       "Perioral Dermatitis                                                    9    \n",
       "Spondylolisthesis                                                      9    \n",
       "Dermatologic Lesion                                                    8    \n",
       "Atherosclerosis                                                        8    \n",
       "Agitation                                                              8    \n",
       "Brain Tum                                                              8    \n",
       "Dandruff                                                               8    \n",
       "Status Epilepticus                                                     8    \n",
       "Adrenocortical Insufficiency                                           8    \n",
       "Pancreatic Exocrine Dysfunction                                        8    \n",
       "Lymphoma                                                               8    \n",
       "Nasal Carriage of Staphylococcus aureus                                8    \n",
       "lic Acid Deficiency                                                    8    \n",
       "Candidemia                                                             8    \n",
       "Gastrointestinal Stromal Tum                                           8    \n",
       "Labor Induction                                                        8    \n",
       "B12 Nutritional Deficiency                                             8    \n",
       "Bacterial Endocarditis Prevention                                      8    \n",
       "Pediatric Growth Hormone Deficiency                                    8    \n",
       "Lyme Disease, Arthritis                                                8    \n",
       "Hepatic Encephalopathy                                                 8    \n",
       "Bronchospasm Prophylaxis                                               8    \n",
       "Lipodystrophy                                                          7    \n",
       "Hypoactive Sexual Desire Disorde                                       7    \n",
       "Macular Edema                                                          7    \n",
       "Idiopathic Thrombocytopenic Purpura                                    7    \n",
       "25</span> users found this comment helpful.                            7    \n",
       "Immunosuppression                                                      7    \n",
       "Mountain Sickness / Altitude Sickness                                  7    \n",
       "Ophthalmic Surgery                                                     7    \n",
       "NSAID-Induced Gastric Ulce                                             7    \n",
       "Performance Anxiety                                                    7    \n",
       "Pinworm Infection (Enterobius vermicularis)                            7    \n",
       "Endometrial Cance                                                      7    \n",
       "Wegener's Granulomatosis                                               7    \n",
       "Bleeding Disorde                                                       7    \n",
       "Head and Neck Cance                                                    7    \n",
       "Abortion                                                               7    \n",
       "Diabetic Macular Edema                                                 7    \n",
       "Tinea Capitis                                                          7    \n",
       "von Willebrand's Disease                                               7    \n",
       "Anemia Associated with Chronic Renal Failure                           6    \n",
       "Herpes Simplex, Mucocutaneous/Immunocompromised Host                   6    \n",
       "Still's Disease                                                        6    \n",
       "Mucositis                                                              6    \n",
       "Glioblastoma Multi                                                     6    \n",
       "Dermatophytosis                                                        6    \n",
       "Dumping Syndrome                                                       6    \n",
       "Cataplexy                                                              6    \n",
       "Herpes Zoster, Prophylaxis                                             6    \n",
       "Carcinoid Tum                                                          6    \n",
       "Gingivitis                                                             6    \n",
       "amilial Mediterranean Feve                                             6    \n",
       "Nephrotic Syndrome                                                     6    \n",
       "Biliary Cirrhosis                                                      6    \n",
       "Dietary Fiber Supplementation                                          6    \n",
       "NSAID-Induced Ulcer Prophylaxis                                        6    \n",
       "Candida Urinary Tract Infection                                        6    \n",
       "Hepatocellular Carcinoma                                               6    \n",
       "Endometrial Hyperplasia                                                6    \n",
       "Systemic Mastocytosis                                                  6    \n",
       "Thrombocythemia                                                        6    \n",
       "Iritis                                                                 6    \n",
       "Premature Ventricular Depolarizations                                  6    \n",
       "CMV Prophylaxis                                                        5    \n",
       "Cyclothymic Disorde                                                    5    \n",
       "Spondyloarthritis                                                      5    \n",
       "Varicella-Zoste                                                        5    \n",
       "Pulmonary Embolism, First Event                                        5    \n",
       "Herpes Simplex Dendritic Keratitis                                     5    \n",
       "Leukemia                                                               5    \n",
       "Pupillary Dilation                                                     5    \n",
       "Sarcoidosis                                                            5    \n",
       "Auditory Processing Disorde                                            5    \n",
       "Prevention of Atherothrombotic Events                                  5    \n",
       "Hypokalemia                                                            5    \n",
       "Head Injury                                                            5    \n",
       "36</span> users found this comment helpful.                            5    \n",
       "27</span> users found this comment helpful.                            5    \n",
       "Glioblastoma Multiforme                                                5    \n",
       "Pe                                                                     5    \n",
       "Mild Cognitive Impairment                                              5    \n",
       "Ear Wax Impaction                                                      5    \n",
       "SIADH                                                                  5    \n",
       "Transient Ischemic Attack                                              5    \n",
       "AIDS Related Wasting                                                   5    \n",
       "Cardiovascular Risk Reduction                                          5    \n",
       "Peripheral Arterial Disease                                            5    \n",
       "Primary Nocturnal Enuresis                                             5    \n",
       "Melanoma                                                               5    \n",
       "Glaucoma/Intraocular Hypertension                                      5    \n",
       "Reiter's Syndrome                                                      5    \n",
       "Gonococcal Infection, Uncomplicated                                    5    \n",
       "Peptic Ulce                                                            5    \n",
       "Hypercalcemia of Malignancy                                            5    \n",
       "Periodontitis                                                          5    \n",
       "Ventricular Fibrillation                                               5    \n",
       "Cance                                                                  5    \n",
       "41</span> users found this comment helpful.                            5    \n",
       "Endometrial Hyperplasia, Prophylaxis                                   5    \n",
       "29</span> users found this comment helpful.                            5    \n",
       "Primary Hyperaldosteronism                                             5    \n",
       "Pre-Exposure Prophylaxis                                               5    \n",
       "Turner's Syndrome                                                      5    \n",
       "min / pioglitazone)                                                    5    \n",
       "Anaplastic Oligodendroglioma                                           5    \n",
       "Gout, Prophylaxis                                                      5    \n",
       "mis                                                                    5    \n",
       "33</span> users found this comment helpful.                            5    \n",
       "Osteolytic Bone Lesions of Multiple Myeloma                            4    \n",
       "Mycobacterium avium-intracellulare, Treatment                          4    \n",
       "44</span> users found this comment helpful.                            4    \n",
       "Enterocolitis                                                          4    \n",
       "Gastritis/Duodenitis                                                   4    \n",
       "Granuloma Annulare                                                     4    \n",
       "Infection Prophylaxis                                                  4    \n",
       "Dementia                                                               4    \n",
       "Breast Cancer, Prevention                                              4    \n",
       "Topical Disinfection                                                   4    \n",
       "ge HCT (amlodipine / hydrochlorothiazide / valsartan)                  4    \n",
       "Prosthetic Heart Valves, Mechanical Valves - Thrombosis Prophylaxis    4    \n",
       "Eosinophilic Esophagitis                                               4    \n",
       "Noninfectious Colitis                                                  4    \n",
       "Bullous Pemphigoid                                                     4    \n",
       "Nephrocalcinosis                                                       4    \n",
       "Alpha-1 Proteinase Inhibitor Deficiency                                4    \n",
       "Paroxysmal Supraventricular Tachycardia                                4    \n",
       "Anesthetic Adjunct                                                     4    \n",
       "43</span> users found this comment helpful.                            4    \n",
       "STD Prophylaxis                                                        4    \n",
       "Gastric Ulcer Maintenance Treatment                                    4    \n",
       "Nausea/Vomiting, Radiation Induced                                     4    \n",
       "Ascariasis                                                             4    \n",
       "ICU Agitation                                                          4    \n",
       "Hypoglycemia                                                           4    \n",
       "Lymphocytic Colitis                                                    4    \n",
       "Deep Neck Infection                                                    4    \n",
       "Nonoccupational Exposure                                               4    \n",
       "Porphyria                                                              4    \n",
       "32</span> users found this comment helpful.                            4    \n",
       "Acute Lymphoblastic Leukemia                                           4    \n",
       "Reversal of Opioid Sedation                                            4    \n",
       "Anemia, Sickle Cell                                                    4    \n",
       "24</span> users found this comment helpful.                            4    \n",
       "Pudendal Neuralgia                                                     4    \n",
       "cal Segmental Glomerulosclerosis                                       4    \n",
       "Oral and Dental Conditions                                             4    \n",
       "Hypocalcemia                                                           4    \n",
       "Peripheral T-cell Lymphoma                                             4    \n",
       "CNS Magnetic Resonance Imaging                                         4    \n",
       "Women (oxybutynin)                                                     3    \n",
       "Small Bowel Bacterial Overgrowth                                       3    \n",
       "Acute Promyelocytic Leukemia                                           3    \n",
       "ailure to Thrive                                                       3    \n",
       "Gender Dysphoria                                                       3    \n",
       "Pemphigus                                                              3    \n",
       "Rhinorrhea                                                             3    \n",
       "Dientamoeba fragilis                                                   3    \n",
       "Hemophilia A                                                           3    \n",
       "Hyperekplexia                                                          3    \n",
       "Autoimmune Hemolytic Anemia                                            3    \n",
       "39</span> users found this comment helpful.                            3    \n",
       "31</span> users found this comment helpful.                            3    \n",
       "Squamous Cell Carcinoma                                                3    \n",
       "Hidradenitis Suppurativa                                               3    \n",
       "28</span> users found this comment helpful.                            3    \n",
       "Cerebral Spasticity                                                    3    \n",
       "Neurosurgery                                                           3    \n",
       "Anorexia/Feeding Problems                                              3    \n",
       "Cutaneous T-cell Lymphoma                                              3    \n",
       "Rejection Prophylaxis                                                  3    \n",
       "Ectopic Pregnancy                                                      3    \n",
       "amilial Cold Autoinflammatory Syndrome                                 3    \n",
       "Aspiration Pneumonia                                                   3    \n",
       "Hyperkalemia                                                           3    \n",
       "Histoplasmosis                                                         3    \n",
       "Chronic Inflammatory Demyelinating Polyradiculoneuropathy              3    \n",
       "Dupuytren's contracture                                                3    \n",
       "Ocular Rosacea                                                         3    \n",
       "Severe Mood Dysregulation                                              3    \n",
       "Wolff-Parkinson-White Syndrome                                         3    \n",
       "Warts                                                                  3    \n",
       "Antiphospholipid Syndrome                                              3    \n",
       "Amebiasis                                                              3    \n",
       "actor IX Deficiency                                                    3    \n",
       "Esophageal Candidiasis                                                 3    \n",
       "Thromboembolic Stroke Prophylaxis                                      3    \n",
       "Meningitis                                                             3    \n",
       "Aphthous Ulce                                                          3    \n",
       "Lewy Body Dementia                                                     3    \n",
       "Anemia, Chemotherapy Induced                                           3    \n",
       "Stress Ulcer Prophylaxis                                               3    \n",
       "Small Fiber Neuropathy                                                 3    \n",
       "Oligospermia                                                           3    \n",
       "Pseudomembranous Colitis                                               3    \n",
       "Tuberculosis, Prophylaxis                                              3    \n",
       "Uterine Bleeding                                                       3    \n",
       "Anaplastic Astrocytoma                                                 3    \n",
       "Sunburn                                                                3    \n",
       "Varicose Veins                                                         3    \n",
       "Peritonitis                                                            3    \n",
       "Anal Itching                                                           3    \n",
       "Esophageal Variceal Hemorrhage Prophylaxis                             3    \n",
       "Endoscopy or Radiology Premedication                                   3    \n",
       "Leukocytoclastic Vasculitis                                            2    \n",
       "Hyperphosphatemia                                                      2    \n",
       "Skin Disinfection, Preoperative                                        2    \n",
       "35</span> users found this comment helpful.                            2    \n",
       "Schnitzler Syndrome                                                    2    \n",
       "Deep Vein Thrombosis Prophylaxis after Knee Replacement Surgery        2    \n",
       "Hepatic Tum                                                            2    \n",
       "Renal Transplant                                                       2    \n",
       "Nocardiosis                                                            2    \n",
       "75</span> users found this comment helpful.                            2    \n",
       "74</span> users found this comment helpful.                            2    \n",
       "99</span> users found this comment helpful.                            2    \n",
       "Gonococcal Infection, Disseminated                                     2    \n",
       "Abdominal Distension                                                   2    \n",
       "Pityriasis rubra pilaris                                               2    \n",
       "Campylobacter Gastroenteritis                                          2    \n",
       "Breast Cancer, Palliative                                              2    \n",
       "Hyperlipoproteinemia Type IV, Elevated VLDL                            2    \n",
       "Submental Fullness                                                     2    \n",
       "Paget's Disease                                                        2    \n",
       "Gaucher Disease                                                        2    \n",
       "Nonalcoholic Fatty Liver Disease                                       2    \n",
       "Schistosoma japonicum                                                  2    \n",
       "Babesiosis                                                             2    \n",
       "22</span> users found this comment helpful.                            2    \n",
       "46</span> users found this comment helpful.                            2    \n",
       "Duodenal Ulcer Prophylaxis                                             2    \n",
       "Tetanus                                                                2    \n",
       "Anaphylaxis                                                            2    \n",
       "Neck Pain                                                              2    \n",
       "Thrombocytopenia                                                       2    \n",
       "min / rosiglitazone)                                                   2    \n",
       "Chronic Eosinophilic Leukemia                                          2    \n",
       "Peyronie's Disease                                                     2    \n",
       "Ichthyosis                                                             2    \n",
       "Tardive Dyskinesia                                                     2    \n",
       "Intermittent Explosive Disorde                                         2    \n",
       "Sleep Paralysis                                                        2    \n",
       "Deep Vein Thrombosis Prophylaxis after Hip Replacement Surgery         2    \n",
       "Coronary Artery Disease                                                2    \n",
       "Cutaneous Larva Migrans                                                2    \n",
       "Niacin Deficiency                                                      2    \n",
       "Toothache                                                              2    \n",
       "Gastrointestinal Decontamination                                       2    \n",
       "Hypotension                                                            2    \n",
       "Testicular Cance                                                       2    \n",
       "Hairy Cell Leukemia                                                    2    \n",
       "t Care                                                                 2    \n",
       "t Pac with Cyclobenzaprine (cyclobenzaprine)                           2    \n",
       "Mixed Connective Tissue Disease                                        2    \n",
       "Eyelash Hypotrichosis                                                  2    \n",
       "Pathological Hypersecretory Conditions                                 2    \n",
       "Hypomagnesemia                                                         2    \n",
       "55</span> users found this comment helpful.                            2    \n",
       "45</span> users found this comment helpful.                            2    \n",
       "Neurosis                                                               2    \n",
       "tic (mycophenolic acid)                                                2    \n",
       "Myxedema Coma                                                          2    \n",
       "42</span> users found this comment helpful.                            2    \n",
       "Urinary Retention                                                      2    \n",
       "Typhoid Feve                                                           2    \n",
       "Croup                                                                  2    \n",
       "Cholera                                                                2    \n",
       "Delayed Puberty, Male                                                  2    \n",
       "Solid Tumors                                                           2    \n",
       "Vitamin K Deficiency                                                   2    \n",
       "Malignant Glioma                                                       2    \n",
       "Mononucleosis                                                          2    \n",
       "Angioedema                                                             2    \n",
       "Pertussis                                                              2    \n",
       "Liver Magnetic Resonance Imaging                                       2    \n",
       "Salivary Gland Cance                                                   2    \n",
       "85</span> users found this comment helpful.                            2    \n",
       "Anthrax                                                                2    \n",
       "Systemic Sclerosis                                                     2    \n",
       "Prosthetic Heart Valves, Tissue Valves - Thrombosis Prophylaxis        2    \n",
       "Tic Disorde                                                            2    \n",
       "Aggressive Behavi                                                      2    \n",
       "Platelet Aggregation Inhibition                                        2    \n",
       "Avian Influenza                                                        2    \n",
       "Euvolemic Hyponatremia                                                 2    \n",
       "142</span> users found this comment helpful.                           2    \n",
       "Percutaneous Coronary Intervention                                     2    \n",
       "Body Imaging                                                           2    \n",
       "Blepharitis                                                            2    \n",
       "Hyperparathyroidism Secondary to Renal Impairment                      2    \n",
       "Muscle Twitching                                                       2    \n",
       "Dissociative Identity Disorde                                          1    \n",
       "94</span> users found this comment helpful.                            1    \n",
       "Upper Limb Spasticity                                                  1    \n",
       "Hepatitis B Prevention                                                 1    \n",
       "AV Heart Block                                                         1    \n",
       "Paragonimus westermani, Lung Fluke                                     1    \n",
       "Thyrotoxicosis                                                         1    \n",
       "Neurotic Depression                                                    1    \n",
       "92</span> users found this comment helpful.                            1    \n",
       "Tinea Barbae                                                           1    \n",
       "Primary Hyperaldosteronism Diagnosis                                   1    \n",
       "146</span> users found this comment helpful.                           1    \n",
       "Secondary Cutaneous Bacterial Infections                               1    \n",
       "Ramsay Hunt Syndrome                                                   1    \n",
       "Mycoplasma Pneumonia                                                   1    \n",
       "Dermatitis Herpeti                                                     1    \n",
       "Hemophilia B                                                           1    \n",
       "Myeloproliferative Disorders                                           1    \n",
       "34</span> users found this comment helpful.                            1    \n",
       "Legionella Pneumonia                                                   1    \n",
       "Dercum's Disease                                                       1    \n",
       "Hypopituitarism                                                        1    \n",
       "Gastric Cance                                                          1    \n",
       "Postoperative Increased Intraocular Pressure                           1    \n",
       "Parkinsonian Trem                                                      1    \n",
       "Tuberculosis, Active                                                   1    \n",
       "Keratitis                                                              1    \n",
       "Strongyloidiasis                                                       1    \n",
       "Short Stature                                                          1    \n",
       "Patent Ductus Arteriosus                                               1    \n",
       "Portal Hypertension                                                    1    \n",
       "Klinefelter Syndrome                                                   1    \n",
       "Acetaminophen Overdose                                                 1    \n",
       "Reversal of Nondepolarizing Muscle Relaxants                           1    \n",
       "40</span> users found this comment helpful.                            1    \n",
       "Bartonellosis                                                          1    \n",
       "72</span> users found this comment helpful.                            1    \n",
       "Hodgkin's Lymphoma                                                     1    \n",
       "Systemic Candidiasis                                                   1    \n",
       "Cogan's Syndrome                                                       1    \n",
       "Linear IgA Disease                                                     1    \n",
       "Short Stature for Age                                                  1    \n",
       "ungal Pneumonia                                                        1    \n",
       "26</span> users found this comment helpful.                            1    \n",
       "Meningococcal Meningitis Prophylaxis                                   1    \n",
       "Joint Infection                                                        1    \n",
       "Amyotrophic Lateral Sclerosis                                          1    \n",
       "acial Lipoatrophy                                                      1    \n",
       "Syringomyelia                                                          1    \n",
       "Gestational Diabetes                                                   1    \n",
       "Asystole                                                               1    \n",
       "Gonadotropin Inhibition                                                1    \n",
       "Pseudogout, Prophylaxis                                                1    \n",
       "Stomach Cance                                                          1    \n",
       "me                                                                     1    \n",
       "Cluster-Tic Syndrome                                                   1    \n",
       "Epicondylitis, Tennis Elbow                                            1    \n",
       "Myelofibrosis                                                          1    \n",
       "Neutropenia                                                            1    \n",
       "Acute Nonlymphocytic Leukemia                                          1    \n",
       "63</span> users found this comment helpful.                            1    \n",
       "Sporotrichosis                                                         1    \n",
       "Neoplastic Diseases                                                    1    \n",
       "Zollinger-Ellison Syndrome                                             1    \n",
       "Radionuclide Myocardial Perfusion Study                                1    \n",
       "Neuritis                                                               1    \n",
       "Thyroid Suppression Test                                               1    \n",
       "Hyperlipoproteinemia Type III, Elevated beta-VLDL   IDL                1    \n",
       "Hydrocephalus                                                          1    \n",
       "Giant Cell Tumor of Bone                                               1    \n",
       "Meningitis, Meningococcal                                              1    \n",
       "Pruritus of Partial Biliary Obstruction                                1    \n",
       "Wilson's Disease                                                       1    \n",
       "95</span> users found this comment helpful.                            1    \n",
       "77</span> users found this comment helpful.                            1    \n",
       "Cerebrovascular Insufficiency                                          1    \n",
       "mist (                                                                 1    \n",
       "m Pain Disorde                                                         1    \n",
       "Ventricular Arrhythmia                                                 1    \n",
       "Women (minoxidil)                                                      1    \n",
       "ibrocystic Breast Disease                                              1    \n",
       "54</span> users found this comment helpful.                            1    \n",
       "Small Bowel or Pancreatic Fistula                                      1    \n",
       "Multiple Endocrine Adenomas                                            1    \n",
       "Hyperbilirubinemia                                                     1    \n",
       "145</span> users found this comment helpful.                           1    \n",
       "Rabies Prophylaxis                                                     1    \n",
       "Dermatitis Herpetiformis                                               1    \n",
       "Epididymitis, Sexually Transmitted                                     1    \n",
       "47</span> users found this comment helpful.                            1    \n",
       "Occipital Neuralgia                                                    1    \n",
       "Cerebral Edema                                                         1    \n",
       "Aspergillosis, Aspergilloma                                            1    \n",
       "76</span> users found this comment helpful.                            1    \n",
       "Cachexia                                                               1    \n",
       "30</span> users found this comment helpful.                            1    \n",
       "Gallbladder Disease                                                    1    \n",
       "unctional Gastric Disorde                                              1    \n",
       "Organ Transplant, Rejection Reversal                                   1    \n",
       "Diagnostic Bronchograms                                                1    \n",
       "Coccidioidomycosis                                                     1    \n",
       "79</span> users found this comment helpful.                            1    \n",
       "Somatoform Pain Disorde                                                1    \n",
       "Oppositional Defiant Disorde                                           1    \n",
       "98</span> users found this comment helpful.                            1    \n",
       "Hyperuricemia Secondary to Chemotherapy                                1    \n",
       "Strabismus                                                             1    \n",
       "62</span> users found this comment helpful.                            1    \n",
       "Esophageal Spasm                                                       1    \n",
       "Pemphigoid                                                             1    \n",
       "84</span> users found this comment helpful.                            1    \n",
       "Anti NMDA Receptor Encephalitis                                        1    \n",
       "Sepsis                                                                 1    \n",
       "110</span> users found this comment helpful.                           1    \n",
       "123</span> users found this comment helpful.                           1    \n",
       "48</span> users found this comment helpful.                            1    \n",
       "Hypercalcemia                                                          1    \n",
       "Prevention of Perinatal Group B Streptococcal Disease                  1    \n",
       "61</span> users found this comment helpful.                            1    \n",
       "Transverse Myelitis                                                    1    \n",
       "Wound Cleansing                                                        1    \n",
       "llicular Lymphoma                                                      1    \n",
       "Microscopic polyangiitis                                               1    \n",
       "Hypokalemic Periodic Paralysis                                         1    \n",
       "Corneal Ulce                                                           1    \n",
       "Postpartum Breast Pain                                                 1    \n",
       "Mumps Prophylaxis                                                      1    \n",
       "121</span> users found this comment helpful.                           1    \n",
       "Q Feve                                                                 1    \n",
       "Scleroderma                                                            1    \n",
       "Hypodermoclysis                                                        1    \n",
       "Cyclitis                                                               1    \n",
       "Schilling Test                                                         1    \n",
       "64</span> users found this comment helpful.                            1    \n",
       "Ehrlichiosis                                                           1    \n",
       "Parkinsonism                                                           1    \n",
       "Infectious Diarrhea                                                    1    \n",
       "Subarachnoid Hemorrhage                                                1    \n",
       "51</span> users found this comment helpful.                            1    \n",
       "Hemangioma                                                             1    \n",
       "Manscaping Pain                                                        1    \n",
       "ungal Infection Prophylaxis                                            1    \n",
       "Name: condition, dtype: int64"
      ]
     },
     "execution_count": 544,
     "metadata": {},
     "output_type": "execute_result"
    }
   ],
   "source": [
    "df.condition.value_counts()"
   ]
  },
  {
   "cell_type": "code",
   "execution_count": 545,
   "id": "ec668656",
   "metadata": {},
   "outputs": [],
   "source": [
    "df_train = df[(df['condition']=='Urinary Tract Infection') | (df['condition']=='Depression') | (df['condition']=='High Blood Pressure')|(df['condition']=='Diabetes, Type 2')|(df['condition']=='Insomnia')]"
   ]
  },
  {
   "cell_type": "code",
   "execution_count": 546,
   "id": "0ba8d232",
   "metadata": {},
   "outputs": [
    {
     "data": {
      "text/plain": [
       "(161297, 7)"
      ]
     },
     "execution_count": 546,
     "metadata": {},
     "output_type": "execute_result"
    }
   ],
   "source": [
    "df.shape"
   ]
  },
  {
   "cell_type": "code",
   "execution_count": 547,
   "id": "898a7ff6",
   "metadata": {},
   "outputs": [
    {
     "data": {
      "text/plain": [
       "(18933, 7)"
      ]
     },
     "execution_count": 547,
     "metadata": {},
     "output_type": "execute_result"
    }
   ],
   "source": [
    "df_train.shape"
   ]
  },
  {
   "cell_type": "code",
   "execution_count": 548,
   "id": "f2c189bb",
   "metadata": {},
   "outputs": [],
   "source": [
    "X = df_train.drop(['Unnamed: 0','drugName','rating','date','usefulCount'],axis=1)\n"
   ]
  },
  {
   "cell_type": "code",
   "execution_count": 549,
   "id": "d9c0cfb6",
   "metadata": {},
   "outputs": [
    {
     "data": {
      "text/plain": [
       "Depression                 9069\n",
       "Insomnia                   3673\n",
       "Diabetes, Type 2           2554\n",
       "High Blood Pressure        2321\n",
       "Urinary Tract Infection    1316\n",
       "Name: condition, dtype: int64"
      ]
     },
     "execution_count": 549,
     "metadata": {},
     "output_type": "execute_result"
    }
   ],
   "source": [
    "X.condition.value_counts()"
   ]
  },
  {
   "cell_type": "code",
   "execution_count": 550,
   "id": "9aeceed5",
   "metadata": {},
   "outputs": [
    {
     "data": {
      "text/html": [
       "<div>\n",
       "<style scoped>\n",
       "    .dataframe tbody tr th:only-of-type {\n",
       "        vertical-align: middle;\n",
       "    }\n",
       "\n",
       "    .dataframe tbody tr th {\n",
       "        vertical-align: top;\n",
       "    }\n",
       "\n",
       "    .dataframe thead th {\n",
       "        text-align: right;\n",
       "    }\n",
       "</style>\n",
       "<table border=\"1\" class=\"dataframe\">\n",
       "  <thead>\n",
       "    <tr style=\"text-align: right;\">\n",
       "      <th></th>\n",
       "      <th>condition</th>\n",
       "      <th>review</th>\n",
       "    </tr>\n",
       "  </thead>\n",
       "  <tbody>\n",
       "    <tr>\n",
       "      <th>11</th>\n",
       "      <td>Depression</td>\n",
       "      <td>\"I have taken anti-depressants for years, with some improvement but mostly moderate to severe side affects, which makes me go off them.\\r\\n\\r\\nI only take Cymbalta now mostly for pain.\\r\\n\\r\\nWhen I began Deplin, I noticed a major improvement overnight. More energy, better disposition, and no sinking to the low lows of major depression. I have been taking it for about 3 months now and feel like a normal person for the first time ever. Best thing, no side effects.\"</td>\n",
       "    </tr>\n",
       "    <tr>\n",
       "      <th>16</th>\n",
       "      <td>Urinary Tract Infection</td>\n",
       "      <td>\"This drug worked very well for me and cleared up my UTI in a matter of 48hrs, although I was on a 7 day course of 2x200mg/daily. Unfortunately once the tablets finished the infection returned so needed a 2nd course. I&amp;#039;m currently taking a low dose at evening to keep the infection at bay while the specialists do some tests.  I normally get every side effect going and dread taking new medication in any form especially after an horrific experience with Ciorofloxacin but the only side effect I experienced with this was itchy ankles and feet on day two but that didn&amp;#039;t last into third day so I would class this as a minor side effect and insignificant. Good luck.\"</td>\n",
       "    </tr>\n",
       "    <tr>\n",
       "      <th>21</th>\n",
       "      <td>Insomnia</td>\n",
       "      <td>\"I have insomnia, it&amp;#039;s horrible. My story begins with my PCP prescribing me Prozac to help with intestinal issues, because I was desperate I tried it, I was on it for 3 weeks. Stopped because of insomnia. Then I was prescribed Ativan, it out me out, but was very addicting. I had rebound insomnia. Then after about 14 days I hardly any sleep l tried the doctor one more time. I asked him about Trazadone. He told me that was a good medication for insomnia. He put me on 25 mgs, but stated I may have to figure out what dosage is best for me. I am currently taking 100 mgs, which is on the low range of what is prescribed, 400 mgs being at the high end for insomnia. I have the dry mouth and nasel congestion. I can live with that, I sleep now, yeah...\"</td>\n",
       "    </tr>\n",
       "    <tr>\n",
       "      <th>31</th>\n",
       "      <td>Depression</td>\n",
       "      <td>\"1 week on Zoloft for anxiety and mood swings. I take 50mg in the mornings with my breakfast. Nausea on day one  but that subsided as the week went on.  I get the jitters about 2 hrs after taking it followed by yawning. I feel much better though and less angry/stressed.\"</td>\n",
       "    </tr>\n",
       "    <tr>\n",
       "      <th>44</th>\n",
       "      <td>Depression</td>\n",
       "      <td>\"my gp started me on Venlafaxine yesterday to help with depression and the change,a hour after taking them i was feeling very sick couldn,t stomach food or fluids, thought keep it up as she told me they did come with some side effects which would get better,took another one last night and was so ill i couldn,t stand ,being sick sweating shaking thought i was going to pass out. Did get some sleep hopeing to feel better this morning,took another one and felt so spaced out dry mouth shaking ,sick, so booked in to see gp again to make sure i should be feeling like this, only to find out she had put me on the wrong dose should have been on 37.5mg was put on 150mg, now on right dose hope this will be better\"</td>\n",
       "    </tr>\n",
       "  </tbody>\n",
       "</table>\n",
       "</div>"
      ],
      "text/plain": [
       "                  condition  \\\n",
       "11  Depression                \n",
       "16  Urinary Tract Infection   \n",
       "21  Insomnia                  \n",
       "31  Depression                \n",
       "44  Depression                \n",
       "\n",
       "                                                                                                                                                                                                                                                                                                                                                                                                                                                                                                                                                                                                                                                                                                                                                                                   review  \n",
       "11  \"I have taken anti-depressants for years, with some improvement but mostly moderate to severe side affects, which makes me go off them.\\r\\n\\r\\nI only take Cymbalta now mostly for pain.\\r\\n\\r\\nWhen I began Deplin, I noticed a major improvement overnight. More energy, better disposition, and no sinking to the low lows of major depression. I have been taking it for about 3 months now and feel like a normal person for the first time ever. Best thing, no side effects.\"                                                                                                                                                                                                                                                                                                   \n",
       "16  \"This drug worked very well for me and cleared up my UTI in a matter of 48hrs, although I was on a 7 day course of 2x200mg/daily. Unfortunately once the tablets finished the infection returned so needed a 2nd course. I&#039;m currently taking a low dose at evening to keep the infection at bay while the specialists do some tests.  I normally get every side effect going and dread taking new medication in any form especially after an horrific experience with Ciorofloxacin but the only side effect I experienced with this was itchy ankles and feet on day two but that didn&#039;t last into third day so I would class this as a minor side effect and insignificant. Good luck.\"                                                                                   \n",
       "21  \"I have insomnia, it&#039;s horrible. My story begins with my PCP prescribing me Prozac to help with intestinal issues, because I was desperate I tried it, I was on it for 3 weeks. Stopped because of insomnia. Then I was prescribed Ativan, it out me out, but was very addicting. I had rebound insomnia. Then after about 14 days I hardly any sleep l tried the doctor one more time. I asked him about Trazadone. He told me that was a good medication for insomnia. He put me on 25 mgs, but stated I may have to figure out what dosage is best for me. I am currently taking 100 mgs, which is on the low range of what is prescribed, 400 mgs being at the high end for insomnia. I have the dry mouth and nasel congestion. I can live with that, I sleep now, yeah...\"  \n",
       "31  \"1 week on Zoloft for anxiety and mood swings. I take 50mg in the mornings with my breakfast. Nausea on day one  but that subsided as the week went on.  I get the jitters about 2 hrs after taking it followed by yawning. I feel much better though and less angry/stressed.\"                                                                                                                                                                                                                                                                                                                                                                                                                                                                                                        \n",
       "44  \"my gp started me on Venlafaxine yesterday to help with depression and the change,a hour after taking them i was feeling very sick couldn,t stomach food or fluids, thought keep it up as she told me they did come with some side effects which would get better,took another one last night and was so ill i couldn,t stand ,being sick sweating shaking thought i was going to pass out. Did get some sleep hopeing to feel better this morning,took another one and felt so spaced out dry mouth shaking ,sick, so booked in to see gp again to make sure i should be feeling like this, only to find out she had put me on the wrong dose should have been on 37.5mg was put on 150mg, now on right dose hope this will be better\"                                                "
      ]
     },
     "execution_count": 550,
     "metadata": {},
     "output_type": "execute_result"
    }
   ],
   "source": [
    "X.head()"
   ]
  },
  {
   "cell_type": "markdown",
   "id": "ee87bd95",
   "metadata": {},
   "source": [
    "## Data preprocessing"
   ]
  },
  {
   "cell_type": "code",
   "execution_count": 551,
   "id": "20fa7bee",
   "metadata": {},
   "outputs": [],
   "source": [
    "X_uti=X[(X['condition']=='Urinary Tract Infection')]\n",
    "X_dep=X[(X['condition']=='Depression')]\n",
    "X_bp=X[(X['condition']=='High Blood Pressure')]\n",
    "X_diab=X[(X['condition']=='Diabetes, Type 2')]\n",
    "X_in=X[(X['condition']=='Insomnia')]"
   ]
  },
  {
   "cell_type": "code",
   "execution_count": 552,
   "id": "9e5a13d4",
   "metadata": {},
   "outputs": [
    {
     "data": {
      "text/plain": [
       "'\"1 week on Zoloft for anxiety and mood swings. I take 50mg in the mornings with my breakfast. Nausea on day one  but that subsided as the week went on.  I get the jitters about 2 hrs after taking it followed by yawning. I feel much better though and less angry/stressed.\"'"
      ]
     },
     "execution_count": 552,
     "metadata": {},
     "output_type": "execute_result"
    }
   ],
   "source": [
    "X['review'][31]"
   ]
  },
  {
   "cell_type": "code",
   "execution_count": 553,
   "id": "71196553",
   "metadata": {},
   "outputs": [
    {
     "data": {
      "text/plain": [
       "'\"I have taken anti-depressants for years, with some improvement but mostly moderate to severe side affects, which makes me go off them.\\r\\n\\r\\nI only take Cymbalta now mostly for pain.\\r\\n\\r\\nWhen I began Deplin, I noticed a major improvement overnight. More energy, better disposition, and no sinking to the low lows of major depression. I have been taking it for about 3 months now and feel like a normal person for the first time ever. Best thing, no side effects.\"'"
      ]
     },
     "execution_count": 553,
     "metadata": {},
     "output_type": "execute_result"
    }
   ],
   "source": [
    "X['review'][11]"
   ]
  },
  {
   "cell_type": "code",
   "execution_count": 554,
   "id": "a72ff2aa",
   "metadata": {},
   "outputs": [],
   "source": [
    "for i, col in enumerate(X.columns):\n",
    "    X.iloc[:, i] = X.iloc[:, i].str.replace('\"', '')"
   ]
  },
  {
   "cell_type": "code",
   "execution_count": 555,
   "id": "308d6ab1",
   "metadata": {},
   "outputs": [
    {
     "name": "stderr",
     "output_type": "stream",
     "text": [
      "<ipython-input-555-7020dba1819a>:1: FutureWarning: Passing a negative integer is deprecated in version 1.0 and will not be supported in future version. Instead, use None to not limit the column width.\n",
      "  pd.set_option('max_colwidth', -1)\n"
     ]
    }
   ],
   "source": [
    "pd.set_option('max_colwidth', -1)"
   ]
  },
  {
   "cell_type": "code",
   "execution_count": 556,
   "id": "b49365a8",
   "metadata": {},
   "outputs": [
    {
     "data": {
      "text/html": [
       "<div>\n",
       "<style scoped>\n",
       "    .dataframe tbody tr th:only-of-type {\n",
       "        vertical-align: middle;\n",
       "    }\n",
       "\n",
       "    .dataframe tbody tr th {\n",
       "        vertical-align: top;\n",
       "    }\n",
       "\n",
       "    .dataframe thead th {\n",
       "        text-align: right;\n",
       "    }\n",
       "</style>\n",
       "<table border=\"1\" class=\"dataframe\">\n",
       "  <thead>\n",
       "    <tr style=\"text-align: right;\">\n",
       "      <th></th>\n",
       "      <th>condition</th>\n",
       "      <th>review</th>\n",
       "    </tr>\n",
       "  </thead>\n",
       "  <tbody>\n",
       "    <tr>\n",
       "      <th>11</th>\n",
       "      <td>Depression</td>\n",
       "      <td>I have taken anti-depressants for years, with some improvement but mostly moderate to severe side affects, which makes me go off them.\\r\\n\\r\\nI only take Cymbalta now mostly for pain.\\r\\n\\r\\nWhen I began Deplin, I noticed a major improvement overnight. More energy, better disposition, and no sinking to the low lows of major depression. I have been taking it for about 3 months now and feel like a normal person for the first time ever. Best thing, no side effects.</td>\n",
       "    </tr>\n",
       "    <tr>\n",
       "      <th>16</th>\n",
       "      <td>Urinary Tract Infection</td>\n",
       "      <td>This drug worked very well for me and cleared up my UTI in a matter of 48hrs, although I was on a 7 day course of 2x200mg/daily. Unfortunately once the tablets finished the infection returned so needed a 2nd course. I&amp;#039;m currently taking a low dose at evening to keep the infection at bay while the specialists do some tests.  I normally get every side effect going and dread taking new medication in any form especially after an horrific experience with Ciorofloxacin but the only side effect I experienced with this was itchy ankles and feet on day two but that didn&amp;#039;t last into third day so I would class this as a minor side effect and insignificant. Good luck.</td>\n",
       "    </tr>\n",
       "    <tr>\n",
       "      <th>21</th>\n",
       "      <td>Insomnia</td>\n",
       "      <td>I have insomnia, it&amp;#039;s horrible. My story begins with my PCP prescribing me Prozac to help with intestinal issues, because I was desperate I tried it, I was on it for 3 weeks. Stopped because of insomnia. Then I was prescribed Ativan, it out me out, but was very addicting. I had rebound insomnia. Then after about 14 days I hardly any sleep l tried the doctor one more time. I asked him about Trazadone. He told me that was a good medication for insomnia. He put me on 25 mgs, but stated I may have to figure out what dosage is best for me. I am currently taking 100 mgs, which is on the low range of what is prescribed, 400 mgs being at the high end for insomnia. I have the dry mouth and nasel congestion. I can live with that, I sleep now, yeah...</td>\n",
       "    </tr>\n",
       "    <tr>\n",
       "      <th>31</th>\n",
       "      <td>Depression</td>\n",
       "      <td>1 week on Zoloft for anxiety and mood swings. I take 50mg in the mornings with my breakfast. Nausea on day one  but that subsided as the week went on.  I get the jitters about 2 hrs after taking it followed by yawning. I feel much better though and less angry/stressed.</td>\n",
       "    </tr>\n",
       "    <tr>\n",
       "      <th>44</th>\n",
       "      <td>Depression</td>\n",
       "      <td>my gp started me on Venlafaxine yesterday to help with depression and the change,a hour after taking them i was feeling very sick couldn,t stomach food or fluids, thought keep it up as she told me they did come with some side effects which would get better,took another one last night and was so ill i couldn,t stand ,being sick sweating shaking thought i was going to pass out. Did get some sleep hopeing to feel better this morning,took another one and felt so spaced out dry mouth shaking ,sick, so booked in to see gp again to make sure i should be feeling like this, only to find out she had put me on the wrong dose should have been on 37.5mg was put on 150mg, now on right dose hope this will be better</td>\n",
       "    </tr>\n",
       "  </tbody>\n",
       "</table>\n",
       "</div>"
      ],
      "text/plain": [
       "                  condition  \\\n",
       "11  Depression                \n",
       "16  Urinary Tract Infection   \n",
       "21  Insomnia                  \n",
       "31  Depression                \n",
       "44  Depression                \n",
       "\n",
       "                                                                                                                                                                                                                                                                                                                                                                                                                                                                                                                                                                                                                                                                                                                                                                                 review  \n",
       "11  I have taken anti-depressants for years, with some improvement but mostly moderate to severe side affects, which makes me go off them.\\r\\n\\r\\nI only take Cymbalta now mostly for pain.\\r\\n\\r\\nWhen I began Deplin, I noticed a major improvement overnight. More energy, better disposition, and no sinking to the low lows of major depression. I have been taking it for about 3 months now and feel like a normal person for the first time ever. Best thing, no side effects.                                                                                                                                                                                                                                                                                                   \n",
       "16  This drug worked very well for me and cleared up my UTI in a matter of 48hrs, although I was on a 7 day course of 2x200mg/daily. Unfortunately once the tablets finished the infection returned so needed a 2nd course. I&#039;m currently taking a low dose at evening to keep the infection at bay while the specialists do some tests.  I normally get every side effect going and dread taking new medication in any form especially after an horrific experience with Ciorofloxacin but the only side effect I experienced with this was itchy ankles and feet on day two but that didn&#039;t last into third day so I would class this as a minor side effect and insignificant. Good luck.                                                                                   \n",
       "21  I have insomnia, it&#039;s horrible. My story begins with my PCP prescribing me Prozac to help with intestinal issues, because I was desperate I tried it, I was on it for 3 weeks. Stopped because of insomnia. Then I was prescribed Ativan, it out me out, but was very addicting. I had rebound insomnia. Then after about 14 days I hardly any sleep l tried the doctor one more time. I asked him about Trazadone. He told me that was a good medication for insomnia. He put me on 25 mgs, but stated I may have to figure out what dosage is best for me. I am currently taking 100 mgs, which is on the low range of what is prescribed, 400 mgs being at the high end for insomnia. I have the dry mouth and nasel congestion. I can live with that, I sleep now, yeah...  \n",
       "31  1 week on Zoloft for anxiety and mood swings. I take 50mg in the mornings with my breakfast. Nausea on day one  but that subsided as the week went on.  I get the jitters about 2 hrs after taking it followed by yawning. I feel much better though and less angry/stressed.                                                                                                                                                                                                                                                                                                                                                                                                                                                                                                        \n",
       "44  my gp started me on Venlafaxine yesterday to help with depression and the change,a hour after taking them i was feeling very sick couldn,t stomach food or fluids, thought keep it up as she told me they did come with some side effects which would get better,took another one last night and was so ill i couldn,t stand ,being sick sweating shaking thought i was going to pass out. Did get some sleep hopeing to feel better this morning,took another one and felt so spaced out dry mouth shaking ,sick, so booked in to see gp again to make sure i should be feeling like this, only to find out she had put me on the wrong dose should have been on 37.5mg was put on 150mg, now on right dose hope this will be better                                                "
      ]
     },
     "execution_count": 556,
     "metadata": {},
     "output_type": "execute_result"
    }
   ],
   "source": [
    "X.head()\n"
   ]
  },
  {
   "cell_type": "markdown",
   "id": "f663f9a9",
   "metadata": {},
   "source": [
    "## NLP implementation"
   ]
  },
  {
   "cell_type": "code",
   "execution_count": 557,
   "id": "59073b0e",
   "metadata": {},
   "outputs": [
    {
     "name": "stderr",
     "output_type": "stream",
     "text": [
      "[nltk_data] Downloading package stopwords to\n",
      "[nltk_data]     C:\\Users\\prati\\AppData\\Roaming\\nltk_data...\n",
      "[nltk_data]   Package stopwords is already up-to-date!\n"
     ]
    },
    {
     "data": {
      "text/plain": [
       "True"
      ]
     },
     "execution_count": 557,
     "metadata": {},
     "output_type": "execute_result"
    }
   ],
   "source": [
    "import nltk\n",
    "nltk.download('stopwords')"
   ]
  },
  {
   "cell_type": "markdown",
   "id": "91346221",
   "metadata": {},
   "source": [
    "### stopwords"
   ]
  },
  {
   "cell_type": "code",
   "execution_count": 558,
   "id": "fbf6ea5f",
   "metadata": {},
   "outputs": [
    {
     "data": {
      "text/plain": [
       "['i',\n",
       " 'me',\n",
       " 'my',\n",
       " 'myself',\n",
       " 'we',\n",
       " 'our',\n",
       " 'ours',\n",
       " 'ourselves',\n",
       " 'you',\n",
       " \"you're\",\n",
       " \"you've\",\n",
       " \"you'll\",\n",
       " \"you'd\",\n",
       " 'your',\n",
       " 'yours',\n",
       " 'yourself',\n",
       " 'yourselves',\n",
       " 'he',\n",
       " 'him',\n",
       " 'his',\n",
       " 'himself',\n",
       " 'she',\n",
       " \"she's\",\n",
       " 'her',\n",
       " 'hers',\n",
       " 'herself',\n",
       " 'it',\n",
       " \"it's\",\n",
       " 'its',\n",
       " 'itself',\n",
       " 'they',\n",
       " 'them',\n",
       " 'their',\n",
       " 'theirs',\n",
       " 'themselves',\n",
       " 'what',\n",
       " 'which',\n",
       " 'who',\n",
       " 'whom',\n",
       " 'this',\n",
       " 'that',\n",
       " \"that'll\",\n",
       " 'these',\n",
       " 'those',\n",
       " 'am',\n",
       " 'is',\n",
       " 'are',\n",
       " 'was',\n",
       " 'were',\n",
       " 'be',\n",
       " 'been',\n",
       " 'being',\n",
       " 'have',\n",
       " 'has',\n",
       " 'had',\n",
       " 'having',\n",
       " 'do',\n",
       " 'does',\n",
       " 'did',\n",
       " 'doing',\n",
       " 'a',\n",
       " 'an',\n",
       " 'the',\n",
       " 'and',\n",
       " 'but',\n",
       " 'if',\n",
       " 'or',\n",
       " 'because',\n",
       " 'as',\n",
       " 'until',\n",
       " 'while',\n",
       " 'of',\n",
       " 'at',\n",
       " 'by',\n",
       " 'for',\n",
       " 'with',\n",
       " 'about',\n",
       " 'against',\n",
       " 'between',\n",
       " 'into',\n",
       " 'through',\n",
       " 'during',\n",
       " 'before',\n",
       " 'after',\n",
       " 'above',\n",
       " 'below',\n",
       " 'to',\n",
       " 'from',\n",
       " 'up',\n",
       " 'down',\n",
       " 'in',\n",
       " 'out',\n",
       " 'on',\n",
       " 'off',\n",
       " 'over',\n",
       " 'under',\n",
       " 'again',\n",
       " 'further',\n",
       " 'then',\n",
       " 'once',\n",
       " 'here',\n",
       " 'there',\n",
       " 'when',\n",
       " 'where',\n",
       " 'why',\n",
       " 'how',\n",
       " 'all',\n",
       " 'any',\n",
       " 'both',\n",
       " 'each',\n",
       " 'few',\n",
       " 'more',\n",
       " 'most',\n",
       " 'other',\n",
       " 'some',\n",
       " 'such',\n",
       " 'no',\n",
       " 'nor',\n",
       " 'not',\n",
       " 'only',\n",
       " 'own',\n",
       " 'same',\n",
       " 'so',\n",
       " 'than',\n",
       " 'too',\n",
       " 'very',\n",
       " 's',\n",
       " 't',\n",
       " 'can',\n",
       " 'will',\n",
       " 'just',\n",
       " 'don',\n",
       " \"don't\",\n",
       " 'should',\n",
       " \"should've\",\n",
       " 'now',\n",
       " 'd',\n",
       " 'll',\n",
       " 'm',\n",
       " 'o',\n",
       " 're',\n",
       " 've',\n",
       " 'y',\n",
       " 'ain',\n",
       " 'aren',\n",
       " \"aren't\",\n",
       " 'couldn',\n",
       " \"couldn't\",\n",
       " 'didn',\n",
       " \"didn't\",\n",
       " 'doesn',\n",
       " \"doesn't\",\n",
       " 'hadn',\n",
       " \"hadn't\",\n",
       " 'hasn',\n",
       " \"hasn't\",\n",
       " 'haven',\n",
       " \"haven't\",\n",
       " 'isn',\n",
       " \"isn't\",\n",
       " 'ma',\n",
       " 'mightn',\n",
       " \"mightn't\",\n",
       " 'mustn',\n",
       " \"mustn't\",\n",
       " 'needn',\n",
       " \"needn't\",\n",
       " 'shan',\n",
       " \"shan't\",\n",
       " 'shouldn',\n",
       " \"shouldn't\",\n",
       " 'wasn',\n",
       " \"wasn't\",\n",
       " 'weren',\n",
       " \"weren't\",\n",
       " 'won',\n",
       " \"won't\",\n",
       " 'wouldn',\n",
       " \"wouldn't\"]"
      ]
     },
     "execution_count": 558,
     "metadata": {},
     "output_type": "execute_result"
    }
   ],
   "source": [
    "from nltk.corpus import stopwords\n",
    "\n",
    "stop = stopwords.words('english')\n",
    "stop"
   ]
  },
  {
   "cell_type": "markdown",
   "id": "8c841de2",
   "metadata": {},
   "source": [
    "## Lemmitization"
   ]
  },
  {
   "cell_type": "code",
   "execution_count": 559,
   "id": "43318ad1",
   "metadata": {},
   "outputs": [],
   "source": [
    "from nltk.stem import WordNetLemmatizer\n",
    "from nltk.stem import PorterStemmer\n",
    "\n",
    "porter = PorterStemmer()\n",
    "\n",
    "lemmatizer = WordNetLemmatizer()"
   ]
  },
  {
   "cell_type": "code",
   "execution_count": 560,
   "id": "2ca59fd9",
   "metadata": {},
   "outputs": [
    {
     "name": "stdout",
     "output_type": "stream",
     "text": [
      "sportingli\n",
      "veri\n",
      "troubl\n"
     ]
    }
   ],
   "source": [
    "print(porter.stem(\"sportingly\"))\n",
    "print(porter.stem(\"very\"))\n",
    "print(porter.stem(\"troubled\"))"
   ]
  },
  {
   "cell_type": "code",
   "execution_count": 561,
   "id": "ba00edbc",
   "metadata": {},
   "outputs": [
    {
     "name": "stderr",
     "output_type": "stream",
     "text": [
      "[nltk_data] Downloading package wordnet to\n",
      "[nltk_data]     C:\\Users\\prati\\AppData\\Roaming\\nltk_data...\n",
      "[nltk_data]   Package wordnet is already up-to-date!\n"
     ]
    },
    {
     "data": {
      "text/plain": [
       "True"
      ]
     },
     "execution_count": 561,
     "metadata": {},
     "output_type": "execute_result"
    }
   ],
   "source": [
    "nltk.download('wordnet')"
   ]
  },
  {
   "cell_type": "code",
   "execution_count": 562,
   "id": "3c4b0876",
   "metadata": {},
   "outputs": [
    {
     "name": "stdout",
     "output_type": "stream",
     "text": [
      "sportingly\n",
      "very\n",
      "troubled\n"
     ]
    }
   ],
   "source": [
    "print(lemmatizer.lemmatize(\"sportingly\"))\n",
    "print(lemmatizer.lemmatize(\"very\"))\n",
    "print(lemmatizer.lemmatize(\"troubled\"))"
   ]
  },
  {
   "cell_type": "code",
   "execution_count": 563,
   "id": "327c6897",
   "metadata": {},
   "outputs": [],
   "source": [
    "from bs4 import BeautifulSoup\n",
    "import re"
   ]
  },
  {
   "cell_type": "code",
   "execution_count": 564,
   "id": "f780c47c",
   "metadata": {},
   "outputs": [],
   "source": [
    "def review_to_words(raw_review):\n",
    "    # 1. Delete HTML \n",
    "    review_text = BeautifulSoup(raw_review, 'html.parser').get_text()\n",
    "    # 2. Make a space\n",
    "    letters_only = re.sub('[^a-zA-Z]', ' ', review_text)\n",
    "    # 3. lower letters\n",
    "    words = letters_only.lower().split()\n",
    "    # 5. Stopwords \n",
    "    meaningful_words = [w for w in words if not w in stop]\n",
    "    # 6. lemmitization\n",
    "    lemmitize_words = [lemmatizer.lemmatize(w) for w in meaningful_words]\n",
    "    # 7. space join words\n",
    "    return( ' '.join(lemmitize_words))"
   ]
  },
  {
   "cell_type": "code",
   "execution_count": 565,
   "id": "df2dc473",
   "metadata": {},
   "outputs": [],
   "source": [
    "X['review_clean'] = X['review'].apply(review_to_words)"
   ]
  },
  {
   "cell_type": "code",
   "execution_count": 566,
   "id": "fefb92f6",
   "metadata": {},
   "outputs": [
    {
     "data": {
      "text/html": [
       "<div>\n",
       "<style scoped>\n",
       "    .dataframe tbody tr th:only-of-type {\n",
       "        vertical-align: middle;\n",
       "    }\n",
       "\n",
       "    .dataframe tbody tr th {\n",
       "        vertical-align: top;\n",
       "    }\n",
       "\n",
       "    .dataframe thead th {\n",
       "        text-align: right;\n",
       "    }\n",
       "</style>\n",
       "<table border=\"1\" class=\"dataframe\">\n",
       "  <thead>\n",
       "    <tr style=\"text-align: right;\">\n",
       "      <th></th>\n",
       "      <th>condition</th>\n",
       "      <th>review</th>\n",
       "      <th>review_clean</th>\n",
       "    </tr>\n",
       "  </thead>\n",
       "  <tbody>\n",
       "    <tr>\n",
       "      <th>11</th>\n",
       "      <td>Depression</td>\n",
       "      <td>I have taken anti-depressants for years, with some improvement but mostly moderate to severe side affects, which makes me go off them.\\r\\n\\r\\nI only take Cymbalta now mostly for pain.\\r\\n\\r\\nWhen I began Deplin, I noticed a major improvement overnight. More energy, better disposition, and no sinking to the low lows of major depression. I have been taking it for about 3 months now and feel like a normal person for the first time ever. Best thing, no side effects.</td>\n",
       "      <td>taken anti depressant year improvement mostly moderate severe side affect make go take cymbalta mostly pain began deplin noticed major improvement overnight energy better disposition sinking low low major depression taking month feel like normal person first time ever best thing side effect</td>\n",
       "    </tr>\n",
       "    <tr>\n",
       "      <th>16</th>\n",
       "      <td>Urinary Tract Infection</td>\n",
       "      <td>This drug worked very well for me and cleared up my UTI in a matter of 48hrs, although I was on a 7 day course of 2x200mg/daily. Unfortunately once the tablets finished the infection returned so needed a 2nd course. I&amp;#039;m currently taking a low dose at evening to keep the infection at bay while the specialists do some tests.  I normally get every side effect going and dread taking new medication in any form especially after an horrific experience with Ciorofloxacin but the only side effect I experienced with this was itchy ankles and feet on day two but that didn&amp;#039;t last into third day so I would class this as a minor side effect and insignificant. Good luck.</td>\n",
       "      <td>drug worked well cleared uti matter hr although day course x mg daily unfortunately tablet finished infection returned needed nd course currently taking low dose evening keep infection bay specialist test normally get every side effect going dread taking new medication form especially horrific experience ciorofloxacin side effect experienced itchy ankle foot day two last third day would class minor side effect insignificant good luck</td>\n",
       "    </tr>\n",
       "    <tr>\n",
       "      <th>21</th>\n",
       "      <td>Insomnia</td>\n",
       "      <td>I have insomnia, it&amp;#039;s horrible. My story begins with my PCP prescribing me Prozac to help with intestinal issues, because I was desperate I tried it, I was on it for 3 weeks. Stopped because of insomnia. Then I was prescribed Ativan, it out me out, but was very addicting. I had rebound insomnia. Then after about 14 days I hardly any sleep l tried the doctor one more time. I asked him about Trazadone. He told me that was a good medication for insomnia. He put me on 25 mgs, but stated I may have to figure out what dosage is best for me. I am currently taking 100 mgs, which is on the low range of what is prescribed, 400 mgs being at the high end for insomnia. I have the dry mouth and nasel congestion. I can live with that, I sleep now, yeah...</td>\n",
       "      <td>insomnia horrible story begin pcp prescribing prozac help intestinal issue desperate tried week stopped insomnia prescribed ativan addicting rebound insomnia day hardly sleep l tried doctor one time asked trazadone told good medication insomnia put mg stated may figure dosage best currently taking mg low range prescribed mg high end insomnia dry mouth nasel congestion live sleep yeah</td>\n",
       "    </tr>\n",
       "    <tr>\n",
       "      <th>31</th>\n",
       "      <td>Depression</td>\n",
       "      <td>1 week on Zoloft for anxiety and mood swings. I take 50mg in the mornings with my breakfast. Nausea on day one  but that subsided as the week went on.  I get the jitters about 2 hrs after taking it followed by yawning. I feel much better though and less angry/stressed.</td>\n",
       "      <td>week zoloft anxiety mood swing take mg morning breakfast nausea day one subsided week went get jitter hr taking followed yawning feel much better though le angry stressed</td>\n",
       "    </tr>\n",
       "    <tr>\n",
       "      <th>44</th>\n",
       "      <td>Depression</td>\n",
       "      <td>my gp started me on Venlafaxine yesterday to help with depression and the change,a hour after taking them i was feeling very sick couldn,t stomach food or fluids, thought keep it up as she told me they did come with some side effects which would get better,took another one last night and was so ill i couldn,t stand ,being sick sweating shaking thought i was going to pass out. Did get some sleep hopeing to feel better this morning,took another one and felt so spaced out dry mouth shaking ,sick, so booked in to see gp again to make sure i should be feeling like this, only to find out she had put me on the wrong dose should have been on 37.5mg was put on 150mg, now on right dose hope this will be better</td>\n",
       "      <td>gp started venlafaxine yesterday help depression change hour taking feeling sick stomach food fluid thought keep told come side effect would get better took another one last night ill stand sick sweating shaking thought going pas get sleep hopeing feel better morning took another one felt spaced dry mouth shaking sick booked see gp make sure feeling like find put wrong dose mg put mg right dose hope better</td>\n",
       "    </tr>\n",
       "  </tbody>\n",
       "</table>\n",
       "</div>"
      ],
      "text/plain": [
       "                  condition  \\\n",
       "11  Depression                \n",
       "16  Urinary Tract Infection   \n",
       "21  Insomnia                  \n",
       "31  Depression                \n",
       "44  Depression                \n",
       "\n",
       "                                                                                                                                                                                                                                                                                                                                                                                                                                                                                                                                                                                                                                                                                                                                                                                 review  \\\n",
       "11  I have taken anti-depressants for years, with some improvement but mostly moderate to severe side affects, which makes me go off them.\\r\\n\\r\\nI only take Cymbalta now mostly for pain.\\r\\n\\r\\nWhen I began Deplin, I noticed a major improvement overnight. More energy, better disposition, and no sinking to the low lows of major depression. I have been taking it for about 3 months now and feel like a normal person for the first time ever. Best thing, no side effects.                                                                                                                                                                                                                                                                                                    \n",
       "16  This drug worked very well for me and cleared up my UTI in a matter of 48hrs, although I was on a 7 day course of 2x200mg/daily. Unfortunately once the tablets finished the infection returned so needed a 2nd course. I&#039;m currently taking a low dose at evening to keep the infection at bay while the specialists do some tests.  I normally get every side effect going and dread taking new medication in any form especially after an horrific experience with Ciorofloxacin but the only side effect I experienced with this was itchy ankles and feet on day two but that didn&#039;t last into third day so I would class this as a minor side effect and insignificant. Good luck.                                                                                    \n",
       "21  I have insomnia, it&#039;s horrible. My story begins with my PCP prescribing me Prozac to help with intestinal issues, because I was desperate I tried it, I was on it for 3 weeks. Stopped because of insomnia. Then I was prescribed Ativan, it out me out, but was very addicting. I had rebound insomnia. Then after about 14 days I hardly any sleep l tried the doctor one more time. I asked him about Trazadone. He told me that was a good medication for insomnia. He put me on 25 mgs, but stated I may have to figure out what dosage is best for me. I am currently taking 100 mgs, which is on the low range of what is prescribed, 400 mgs being at the high end for insomnia. I have the dry mouth and nasel congestion. I can live with that, I sleep now, yeah...   \n",
       "31  1 week on Zoloft for anxiety and mood swings. I take 50mg in the mornings with my breakfast. Nausea on day one  but that subsided as the week went on.  I get the jitters about 2 hrs after taking it followed by yawning. I feel much better though and less angry/stressed.                                                                                                                                                                                                                                                                                                                                                                                                                                                                                                         \n",
       "44  my gp started me on Venlafaxine yesterday to help with depression and the change,a hour after taking them i was feeling very sick couldn,t stomach food or fluids, thought keep it up as she told me they did come with some side effects which would get better,took another one last night and was so ill i couldn,t stand ,being sick sweating shaking thought i was going to pass out. Did get some sleep hopeing to feel better this morning,took another one and felt so spaced out dry mouth shaking ,sick, so booked in to see gp again to make sure i should be feeling like this, only to find out she had put me on the wrong dose should have been on 37.5mg was put on 150mg, now on right dose hope this will be better                                                 \n",
       "\n",
       "                                                                                                                                                                                                                                                                                                                                                                                                                                             review_clean  \n",
       "11  taken anti depressant year improvement mostly moderate severe side affect make go take cymbalta mostly pain began deplin noticed major improvement overnight energy better disposition sinking low low major depression taking month feel like normal person first time ever best thing side effect                                                                                                                                                    \n",
       "16  drug worked well cleared uti matter hr although day course x mg daily unfortunately tablet finished infection returned needed nd course currently taking low dose evening keep infection bay specialist test normally get every side effect going dread taking new medication form especially horrific experience ciorofloxacin side effect experienced itchy ankle foot day two last third day would class minor side effect insignificant good luck  \n",
       "21  insomnia horrible story begin pcp prescribing prozac help intestinal issue desperate tried week stopped insomnia prescribed ativan addicting rebound insomnia day hardly sleep l tried doctor one time asked trazadone told good medication insomnia put mg stated may figure dosage best currently taking mg low range prescribed mg high end insomnia dry mouth nasel congestion live sleep yeah                                                     \n",
       "31  week zoloft anxiety mood swing take mg morning breakfast nausea day one subsided week went get jitter hr taking followed yawning feel much better though le angry stressed                                                                                                                                                                                                                                                                             \n",
       "44  gp started venlafaxine yesterday help depression change hour taking feeling sick stomach food fluid thought keep told come side effect would get better took another one last night ill stand sick sweating shaking thought going pas get sleep hopeing feel better morning took another one felt spaced dry mouth shaking sick booked see gp make sure feeling like find put wrong dose mg put mg right dose hope better                              "
      ]
     },
     "execution_count": 566,
     "metadata": {},
     "output_type": "execute_result"
    }
   ],
   "source": [
    "X.head()"
   ]
  },
  {
   "cell_type": "markdown",
   "id": "626fbd77",
   "metadata": {},
   "source": [
    "## Creating features and target variables"
   ]
  },
  {
   "cell_type": "code",
   "execution_count": 567,
   "id": "672f22de",
   "metadata": {},
   "outputs": [],
   "source": [
    "X_feat=X['review_clean']\n",
    "y=X['condition']"
   ]
  },
  {
   "cell_type": "code",
   "execution_count": 568,
   "id": "7bf157d0",
   "metadata": {},
   "outputs": [],
   "source": [
    "from sklearn.model_selection import train_test_split"
   ]
  },
  {
   "cell_type": "code",
   "execution_count": 569,
   "id": "5b9205c7",
   "metadata": {},
   "outputs": [],
   "source": [
    "X_train, X_test, y_train, y_test = train_test_split(X_feat, y,stratify=y,test_size=0.2, random_state=0)"
   ]
  },
  {
   "cell_type": "code",
   "execution_count": 570,
   "id": "09c35da3",
   "metadata": {},
   "outputs": [],
   "source": [
    "import matplotlib.pyplot as plt"
   ]
  },
  {
   "cell_type": "code",
   "execution_count": 571,
   "id": "32e6aab5",
   "metadata": {},
   "outputs": [],
   "source": [
    "def plot_confusion_matrix(cm, classes,\n",
    "                          normalize=False,\n",
    "                          title='Confusion matrix',\n",
    "                          cmap=plt.cm.Blues):\n",
    "\n",
    "    plt.imshow(cm, interpolation='nearest', cmap=cmap)\n",
    "    plt.title(title)\n",
    "    plt.colorbar()\n",
    "    tick_marks = np.arange(len(classes))\n",
    "    plt.xticks(tick_marks, classes, rotation=45)\n",
    "    plt.yticks(tick_marks, classes)\n",
    "\n",
    "    if normalize:\n",
    "        cm = cm.astype('float') / cm.sum(axis=1)[:, np.newaxis]\n",
    "        print(\"Normalized confusion matrix\")\n",
    "    else:\n",
    "        print('Confusion matrix, without normalization')\n",
    "\n",
    "    thresh = cm.max() / 2.\n",
    "    for i, j in itertools.product(range(cm.shape[0]), range(cm.shape[1])):\n",
    "        plt.text(j, i, cm[i, j],\n",
    "                 horizontalalignment=\"center\",\n",
    "                 color=\"white\" if cm[i, j] > thresh else \"black\")\n",
    "    plt.tight_layout()\n",
    "    plt.ylabel('True label')\n",
    "    plt.xlabel('Predicted label')"
   ]
  },
  {
   "cell_type": "markdown",
   "id": "ea1ad29b",
   "metadata": {},
   "source": [
    "## Bag of words"
   ]
  },
  {
   "cell_type": "code",
   "execution_count": 572,
   "id": "c24fa72d",
   "metadata": {},
   "outputs": [],
   "source": [
    "\n",
    "count_vectorizer = CountVectorizer(stop_words='english')\n",
    "\n",
    "count_train = count_vectorizer.fit_transform(X_train)\n",
    "\n",
    "count_test = count_vectorizer.transform(X_test)"
   ]
  },
  {
   "cell_type": "code",
   "execution_count": 573,
   "id": "15edb1d4",
   "metadata": {},
   "outputs": [
    {
     "data": {
      "text/plain": [
       "<15146x12924 sparse matrix of type '<class 'numpy.int64'>'\n",
       "\twith 433157 stored elements in Compressed Sparse Row format>"
      ]
     },
     "execution_count": 573,
     "metadata": {},
     "output_type": "execute_result"
    }
   ],
   "source": [
    "count_train"
   ]
  },
  {
   "cell_type": "code",
   "execution_count": 574,
   "id": "07254749",
   "metadata": {},
   "outputs": [],
   "source": [
    "import matplotlib.pyplot as plt"
   ]
  },
  {
   "cell_type": "markdown",
   "id": "5ee9faea",
   "metadata": {},
   "source": [
    "## ML Model: Naive Bayes\n"
   ]
  },
  {
   "cell_type": "code",
   "execution_count": 575,
   "id": "436e6b68",
   "metadata": {},
   "outputs": [
    {
     "name": "stdout",
     "output_type": "stream",
     "text": [
      "accuracy:   0.923\n",
      "Confusion matrix, without normalization\n"
     ]
    },
    {
     "data": {
      "image/png": "[encoded data removed]",
      "text/plain": [
       "<Figure size 432x288 with 2 Axes>"
      ]
     },
     "metadata": {
      "needs_background": "light"
     },
     "output_type": "display_data"
    }
   ],
   "source": [
    "mnb = MultinomialNB()\n",
    "mnb.fit(count_train, y_train)\n",
    "pred = mnb.predict(count_test)\n",
    "score = metrics.accuracy_score(y_test, pred)\n",
    "print(\"accuracy:   %0.3f\" % score)\n",
    "\n",
    "cm = metrics.confusion_matrix(y_test, pred, labels=['Urinary Tract Infection', 'Depression','Diabetes, Type 2','High Blood Pressure','Insomnia'])\n",
    "plot_confusion_matrix(cm, classes=['Urinary Tract Infection', 'Depression','Diabetes, Type 2','High Blood Pressure','Insomnia'])"
   ]
  },
  {
   "cell_type": "markdown",
   "id": "55d77364",
   "metadata": {},
   "source": [
    "## ML Model: Passive Aggressive Classifier"
   ]
  },
  {
   "cell_type": "code",
   "execution_count": 576,
   "id": "438ca3f1",
   "metadata": {},
   "outputs": [
    {
     "name": "stdout",
     "output_type": "stream",
     "text": [
      "accuracy:   0.923\n",
      "Confusion matrix, without normalization\n"
     ]
    },
    {
     "data": {
      "image/png": "[encoded data removed]",
      "text/plain": [
       "<Figure size 432x288 with 2 Axes>"
      ]
     },
     "metadata": {
      "needs_background": "light"
     },
     "output_type": "display_data"
    }
   ],
   "source": [
    "from sklearn.linear_model import PassiveAggressiveClassifier,LogisticRegression\n",
    "\n",
    "passive = PassiveAggressiveClassifier()\n",
    "passive.fit(count_train, y_train)\n",
    "pred = passive.predict(count_test)\n",
    "score = metrics.accuracy_score(y_test, pred)\n",
    "print(\"accuracy:   %0.3f\" % score)\n",
    "cm = metrics.confusion_matrix(y_test, pred, labels=['Urinary Tract Infection', 'Depression','Diabetes, Type 2','High Blood Pressure','Insomnia'])\n",
    "plot_confusion_matrix(cm, classes=['Urinary Tract Infection', 'Depression','Diabetes, Type 2','High Blood Pressure','Insomnia'])"
   ]
  },
  {
   "cell_type": "code",
   "execution_count": 577,
   "id": "df39b7ef",
   "metadata": {},
   "outputs": [],
   "source": [
    "from sklearn.feature_extraction.text import TfidfVectorizer\n",
    "\n",
    "tfidf_vectorizer = TfidfVectorizer(stop_words='english', max_df=0.8)\n",
    "tfidf_train_2 = tfidf_vectorizer.fit_transform(X_train)\n",
    "tfidf_test_2 = tfidf_vectorizer.transform(X_test)"
   ]
  },
  {
   "cell_type": "markdown",
   "id": "abeba327",
   "metadata": {},
   "source": [
    "## TF-IDF"
   ]
  },
  {
   "cell_type": "code",
   "execution_count": 578,
   "id": "69a8a991",
   "metadata": {},
   "outputs": [
    {
     "name": "stdout",
     "output_type": "stream",
     "text": [
      "accuracy:   0.935\n",
      "Confusion matrix, without normalization\n"
     ]
    },
    {
     "data": {
      "image/png": "[encoded data removed]",
      "text/plain": [
       "<Figure size 432x288 with 2 Axes>"
      ]
     },
     "metadata": {
      "needs_background": "light"
     },
     "output_type": "display_data"
    }
   ],
   "source": [
    "tfidf_vectorizer = TfidfVectorizer(stop_words='english', max_df=0.8)\n",
    "tfidf_train = tfidf_vectorizer.fit_transform(X_train)\n",
    "tfidf_test = tfidf_vectorizer.transform(X_test)\n",
    "\n",
    "pass_tf = PassiveAggressiveClassifier()\n",
    "pass_tf.fit(tfidf_train, y_train)\n",
    "pred = pass_tf.predict(tfidf_test)\n",
    "score = metrics.accuracy_score(y_test, pred)\n",
    "print(\"accuracy:   %0.3f\" % score)\n",
    "cm = metrics.confusion_matrix(y_test, pred, labels=['Urinary Tract Infection', 'Depression','Diabetes, Type 2','High Blood Pressure','Insomia'])\n",
    "plot_confusion_matrix(cm, classes=['Urinary Tract Infection', 'Depression','Diabetes, Type 2','High Blood Pressure','Insomnia'])"
   ]
  },
  {
   "cell_type": "markdown",
   "id": "3daeedd0",
   "metadata": {},
   "source": [
    "## TF-IDF:Bigrams"
   ]
  },
  {
   "cell_type": "code",
   "execution_count": 579,
   "id": "a2ab0225",
   "metadata": {},
   "outputs": [],
   "source": [
    "tfidf_vectorizer2 = TfidfVectorizer(stop_words='english', max_df=0.8, ngram_range=(1,2))\n",
    "tfidf_train_2 = tfidf_vectorizer2.fit_transform(X_train)\n",
    "tfidf_test_2 = tfidf_vectorizer2.transform(X_test)"
   ]
  },
  {
   "cell_type": "code",
   "execution_count": 580,
   "id": "bba46185",
   "metadata": {},
   "outputs": [
    {
     "name": "stdout",
     "output_type": "stream",
     "text": [
      "accuracy:   0.948\n",
      "Confusion matrix, without normalization\n"
     ]
    },
    {
     "data": {
      "image/png": "[encoded data removed]",
      "text/plain": [
       "<Figure size 432x288 with 2 Axes>"
      ]
     },
     "metadata": {
      "needs_background": "light"
     },
     "output_type": "display_data"
    }
   ],
   "source": [
    "pass_tf = PassiveAggressiveClassifier()\n",
    "pass_tf.fit(tfidf_train_2, y_train)\n",
    "pred = pass_tf.predict(tfidf_test_2)\n",
    "score = metrics.accuracy_score(y_test, pred)\n",
    "print(\"accuracy:   %0.3f\" % score)\n",
    "cm = metrics.confusion_matrix(y_test, pred, labels=['Urinary Tract Infection', 'Depression','Diabetes, Type 2','High Blood Pressure','Insomnia'])\n",
    "plot_confusion_matrix(cm, classes=['Urinary Tract Infection', 'Depression','Diabetes, Type 2','High Blood Pressure','Insomnia'])"
   ]
  },
  {
   "cell_type": "markdown",
   "id": "a8692af7",
   "metadata": {},
   "source": [
    "## TF-IDF:Trigrams"
   ]
  },
  {
   "cell_type": "code",
   "execution_count": 581,
   "id": "69bf8d27",
   "metadata": {},
   "outputs": [
    {
     "name": "stdout",
     "output_type": "stream",
     "text": [
      "accuracy:   0.948\n",
      "Confusion matrix, without normalization\n"
     ]
    },
    {
     "data": {
      "image/png": "[encoded data removed]",
      "text/plain": [
       "<Figure size 432x288 with 2 Axes>"
      ]
     },
     "metadata": {
      "needs_background": "light"
     },
     "output_type": "display_data"
    }
   ],
   "source": [
    "tfidf_vectorizer3 = TfidfVectorizer(stop_words='english', max_df=0.8, ngram_range=(1,3))\n",
    "tfidf_train_3 = tfidf_vectorizer3.fit_transform(X_train)\n",
    "tfidf_test_3 = tfidf_vectorizer3.transform(X_test)\n",
    "\n",
    "pass_tf = PassiveAggressiveClassifier()\n",
    "pass_tf.fit(tfidf_train_3, y_train)\n",
    "pred = pass_tf.predict(tfidf_test_3)\n",
    "score = metrics.accuracy_score(y_test, pred)\n",
    "print(\"accuracy:   %0.3f\" % score)\n",
    "cm = metrics.confusion_matrix(y_test, pred, labels=['Urinary Tract Infection', 'Depression','Diabetes, Type 2','High Blood Pressure','Insomnia'])\n",
    "plot_confusion_matrix(cm, classes=['Urinary Tract Infection', 'Depression','Diabetes, Type 2','High Blood Pressure','Insomnia'])"
   ]
  },
  {
   "cell_type": "markdown",
   "id": "846c9248",
   "metadata": {},
   "source": [
    "## Most Informative features"
   ]
  },
  {
   "cell_type": "code",
   "execution_count": 582,
   "id": "d6d0b76f",
   "metadata": {},
   "outputs": [
    {
     "name": "stdout",
     "output_type": "stream",
     "text": [
      "Urinary Tract Infection smaller 0.4071729982865359\n",
      "Urinary Tract Infection diabetic 0.43878583417257555\n",
      "Urinary Tract Infection truly 0.4394142502204773\n",
      "Urinary Tract Infection trump 0.4394142502204773\n",
      "Urinary Tract Infection cheery 0.4511315931882884\n",
      "Urinary Tract Infection mph 0.49406756267499585\n",
      "Urinary Tract Infection mri 0.49406756267499585\n",
      "Urinary Tract Infection diaformin 0.6024764019232176\n",
      "Urinary Tract Infection trunk 0.8251027302949503\n",
      "Urinary Tract Infection tranzodone 2.112534663460181\n"
     ]
    }
   ],
   "source": [
    "def most_informative_feature_for_class(vectorizer, classifier, classlabel, n=10):\n",
    "    labelid = list(classifier.classes_).index(classlabel)\n",
    "    feature_names = vectorizer.get_feature_names()\n",
    "    topn = sorted(zip(classifier.coef_[labelid], feature_names))[-n:]\n",
    "\n",
    "    for coef, feat in topn:\n",
    "        print (classlabel, feat, coef)\n",
    "\n",
    "\n",
    "\n",
    "most_informative_feature_for_class(tfidf_vectorizer, pass_tf, 'Urinary Tract Infection')"
   ]
  },
  {
   "cell_type": "code",
   "execution_count": 583,
   "id": "b445e4fb",
   "metadata": {},
   "outputs": [
    {
     "name": "stdout",
     "output_type": "stream",
     "text": [
      "Depression myalgia 0.7978970066815841\n",
      "Depression aorta 0.8474323984666721\n",
      "Depression fun 0.8551443335010414\n",
      "Depression plenty 0.9007972753653396\n",
      "Depression step 0.942337999025124\n",
      "Depression fouth 0.950100185019219\n",
      "Depression stepmom 0.9824437369383523\n",
      "Depression prediabetes 1.1685956803377942\n",
      "Depression trintellix 1.2118756064453895\n",
      "Depression add 3.4515133039987917\n"
     ]
    }
   ],
   "source": [
    "most_informative_feature_for_class(tfidf_vectorizer, pass_tf, 'Depression')"
   ]
  },
  {
   "cell_type": "code",
   "execution_count": 584,
   "id": "8b4479f7",
   "metadata": {},
   "outputs": [
    {
     "name": "stdout",
     "output_type": "stream",
     "text": [
      "High Blood Pressure wall 0.672021608636536\n",
      "High Blood Pressure mirtazapin 0.6912824884636308\n",
      "High Blood Pressure tubal 0.6974305975649583\n",
      "High Blood Pressure fmd 0.7240912431050959\n",
      "High Blood Pressure counted 0.7728920684719706\n",
      "High Blood Pressure trintellex 0.7766445852307925\n",
      "High Blood Pressure counterbalance 0.7771518700958467\n",
      "High Blood Pressure wala 0.8374846990602285\n",
      "High Blood Pressure menopausal 0.933226381874467\n",
      "High Blood Pressure dif 0.9662593534021973\n"
     ]
    }
   ],
   "source": [
    "most_informative_feature_for_class(tfidf_vectorizer, pass_tf, 'High Blood Pressure')"
   ]
  },
  {
   "cell_type": "code",
   "execution_count": 585,
   "id": "33564c09",
   "metadata": {},
   "outputs": [
    {
     "name": "stdout",
     "output_type": "stream",
     "text": [
      "Diabetes, Type 2 distract 0.6034370693889414\n",
      "Diabetes, Type 2 acclimating 0.6139135689811784\n",
      "Diabetes, Type 2 dipstick 0.6147030857265889\n",
      "Diabetes, Type 2 encouraging 0.6468840515448678\n",
      "Diabetes, Type 2 trileptal 0.6663063967985425\n",
      "Diabetes, Type 2 wort 0.7241020954061541\n",
      "Diabetes, Type 2 worth 0.7461231544702354\n",
      "Diabetes, Type 2 workplace 1.58629288894631\n",
      "Diabetes, Type 2 oppressively 1.9809469484195292\n",
      "Diabetes, Type 2 elimination 2.891944029008922\n"
     ]
    }
   ],
   "source": [
    "most_informative_feature_for_class(tfidf_vectorizer, pass_tf, 'Diabetes, Type 2')"
   ]
  },
  {
   "cell_type": "code",
   "execution_count": 586,
   "id": "0ecf6e71",
   "metadata": {},
   "outputs": [
    {
     "name": "stdout",
     "output_type": "stream",
     "text": [
      "Insomnia welchol 0.6092733379496402\n",
      "Insomnia victim 0.6169569451613972\n",
      "Insomnia victimization 0.6169569451613972\n",
      "Insomnia hoo 0.6272538389137129\n",
      "Insomnia wakening 0.6292572386266341\n",
      "Insomnia nodeprine 0.708057233489009\n",
      "Insomnia historically 0.7334306084923216\n",
      "Insomnia checked 1.087698593351397\n",
      "Insomnia spirometric 1.104099577854917\n",
      "Insomnia hollow 1.3114685603666763\n"
     ]
    }
   ],
   "source": [
    "most_informative_feature_for_class(tfidf_vectorizer, pass_tf, 'Insomnia')"
   ]
  },
  {
   "cell_type": "code",
   "execution_count": 587,
   "id": "4c1dd17c",
   "metadata": {},
   "outputs": [
    {
     "data": {
      "text/html": [
       "<div>\n",
       "<style scoped>\n",
       "    .dataframe tbody tr th:only-of-type {\n",
       "        vertical-align: middle;\n",
       "    }\n",
       "\n",
       "    .dataframe tbody tr th {\n",
       "        vertical-align: top;\n",
       "    }\n",
       "\n",
       "    .dataframe thead th {\n",
       "        text-align: right;\n",
       "    }\n",
       "</style>\n",
       "<table border=\"1\" class=\"dataframe\">\n",
       "  <thead>\n",
       "    <tr style=\"text-align: right;\">\n",
       "      <th></th>\n",
       "      <th>condition</th>\n",
       "      <th>review</th>\n",
       "      <th>review_clean</th>\n",
       "    </tr>\n",
       "  </thead>\n",
       "  <tbody>\n",
       "    <tr>\n",
       "      <th>161266</th>\n",
       "      <td>Insomnia</td>\n",
       "      <td>Zolpidem does work fast. However, I have a right arm that goes to sleep on me easily. So if I take zolpidem, I make sure that I fall asleep in a position that will not cut the circulation in my arm.</td>\n",
       "      <td>zolpidem work fast however right arm go sleep easily take zolpidem make sure fall asleep position cut circulation arm</td>\n",
       "    </tr>\n",
       "    <tr>\n",
       "      <th>161277</th>\n",
       "      <td>Insomnia</td>\n",
       "      <td>I started taking this medication 10 years ago. My doctor told me it was non-narcotic and non-habit forming.  Up to that time I had never had any addictions to drugs or alcohol, but unfortunately I am dependent on this drug for sleep.  It does however work very well with few side effects and I wake up feeling refreshed.</td>\n",
       "      <td>started taking medication year ago doctor told non narcotic non habit forming time never addiction drug alcohol unfortunately dependent drug sleep however work well side effect wake feeling refreshed</td>\n",
       "    </tr>\n",
       "    <tr>\n",
       "      <th>161278</th>\n",
       "      <td>Diabetes, Type 2</td>\n",
       "      <td>I just got diagnosed with type 2. My doctor prescribed Invokana and metformin from the beginning. My sugars went down to normal by the second week. I  am losing so much weight. No side effects yet. Miracle medicine for me</td>\n",
       "      <td>got diagnosed type doctor prescribed invokana metformin beginning sugar went normal second week losing much weight side effect yet miracle medicine</td>\n",
       "    </tr>\n",
       "    <tr>\n",
       "      <th>161286</th>\n",
       "      <td>Depression</td>\n",
       "      <td>This is the third med I&amp;#039;ve tried for anxiety and mild depression. Been on it for a week and I hate it so much. I am so dizzy, I have major diarrhea and feel worse than I started. Contacting my doc in the am  and changing asap.</td>\n",
       "      <td>third med tried anxiety mild depression week hate much dizzy major diarrhea feel worse started contacting doc changing asap</td>\n",
       "    </tr>\n",
       "    <tr>\n",
       "      <th>161290</th>\n",
       "      <td>High Blood Pressure</td>\n",
       "      <td>I have only been on Tekturna for 9 days. The effect was immediate. I am also on a calcium channel blocker (Tiazac) and hydrochlorothiazide. I was put on Tekturna because of palpitations experienced with Diovan (ugly drug in my opinion, same company produces both however). The palpitations were pretty bad on Diovan, 24 hour monitor by EKG etc. After a few days of substituting Tekturna for Diovan, there are no more palpitations.</td>\n",
       "      <td>tekturna day effect immediate also calcium channel blocker tiazac hydrochlorothiazide put tekturna palpitation experienced diovan ugly drug opinion company produce however palpitation pretty bad diovan hour monitor ekg etc day substituting tekturna diovan palpitation</td>\n",
       "    </tr>\n",
       "  </tbody>\n",
       "</table>\n",
       "</div>"
      ],
      "text/plain": [
       "                  condition  \\\n",
       "161266  Insomnia              \n",
       "161277  Insomnia              \n",
       "161278  Diabetes, Type 2      \n",
       "161286  Depression            \n",
       "161290  High Blood Pressure   \n",
       "\n",
       "                                                                                                                                                                                                                                                                                                                                                                                                                                                review  \\\n",
       "161266  Zolpidem does work fast. However, I have a right arm that goes to sleep on me easily. So if I take zolpidem, I make sure that I fall asleep in a position that will not cut the circulation in my arm.                                                                                                                                                                                                                                           \n",
       "161277  I started taking this medication 10 years ago. My doctor told me it was non-narcotic and non-habit forming.  Up to that time I had never had any addictions to drugs or alcohol, but unfortunately I am dependent on this drug for sleep.  It does however work very well with few side effects and I wake up feeling refreshed.                                                                                                                 \n",
       "161278  I just got diagnosed with type 2. My doctor prescribed Invokana and metformin from the beginning. My sugars went down to normal by the second week. I  am losing so much weight. No side effects yet. Miracle medicine for me                                                                                                                                                                                                                    \n",
       "161286  This is the third med I&#039;ve tried for anxiety and mild depression. Been on it for a week and I hate it so much. I am so dizzy, I have major diarrhea and feel worse than I started. Contacting my doc in the am  and changing asap.                                                                                                                                                                                                          \n",
       "161290  I have only been on Tekturna for 9 days. The effect was immediate. I am also on a calcium channel blocker (Tiazac) and hydrochlorothiazide. I was put on Tekturna because of palpitations experienced with Diovan (ugly drug in my opinion, same company produces both however). The palpitations were pretty bad on Diovan, 24 hour monitor by EKG etc. After a few days of substituting Tekturna for Diovan, there are no more palpitations.   \n",
       "\n",
       "                                                                                                                                                                                                                                                                       review_clean  \n",
       "161266  zolpidem work fast however right arm go sleep easily take zolpidem make sure fall asleep position cut circulation arm                                                                                                                                                        \n",
       "161277  started taking medication year ago doctor told non narcotic non habit forming time never addiction drug alcohol unfortunately dependent drug sleep however work well side effect wake feeling refreshed                                                                      \n",
       "161278  got diagnosed type doctor prescribed invokana metformin beginning sugar went normal second week losing much weight side effect yet miracle medicine                                                                                                                          \n",
       "161286  third med tried anxiety mild depression week hate much dizzy major diarrhea feel worse started contacting doc changing asap                                                                                                                                                  \n",
       "161290  tekturna day effect immediate also calcium channel blocker tiazac hydrochlorothiazide put tekturna palpitation experienced diovan ugly drug opinion company produce however palpitation pretty bad diovan hour monitor ekg etc day substituting tekturna diovan palpitation  "
      ]
     },
     "execution_count": 587,
     "metadata": {},
     "output_type": "execute_result"
    }
   ],
   "source": [
    "X.tail()"
   ]
  },
  {
   "cell_type": "code",
   "execution_count": 588,
   "id": "3be73897",
   "metadata": {},
   "outputs": [
    {
     "ename": "ValueError",
     "evalue": "X has 12924 features per sample; expecting 535169",
     "output_type": "error",
     "traceback": [
      "\u001b[1;31m---------------------------------------------------------------------------\u001b[0m",
      "\u001b[1;31mValueError\u001b[0m                                Traceback (most recent call last)",
      "\u001b[1;32m<ipython-input-588-1cf2ee3de451>\u001b[0m in \u001b[0;36m<module>\u001b[1;34m\u001b[0m\n\u001b[0;32m      1\u001b[0m \u001b[0mtext\u001b[0m \u001b[1;33m=\u001b[0m\u001b[1;33m[\u001b[0m\u001b[1;34m\"I have only been on Tekturna for 9 days. The effect was immediate. I am also on a calcium channel blocker (Tiazac) and hydrochlorothiazide. I was put on Tekturna because of palpitations experienced with Diovan (ugly drug in my opinion, same company produces both however). The palpitations were pretty bad on Diovan, 24 hour monitor by EKG etc. After a few days of substituting Tekturna for Diovan, there are no more palpitations.\"\u001b[0m\u001b[1;33m]\u001b[0m\u001b[1;33m\u001b[0m\u001b[1;33m\u001b[0m\u001b[0m\n\u001b[0;32m      2\u001b[0m \u001b[0mtest\u001b[0m \u001b[1;33m=\u001b[0m \u001b[0mtfidf_vectorizer\u001b[0m\u001b[1;33m.\u001b[0m\u001b[0mtransform\u001b[0m\u001b[1;33m(\u001b[0m\u001b[0mtext\u001b[0m\u001b[1;33m)\u001b[0m\u001b[1;33m\u001b[0m\u001b[1;33m\u001b[0m\u001b[0m\n\u001b[1;32m----> 3\u001b[1;33m \u001b[0mpred1\u001b[0m\u001b[1;33m=\u001b[0m\u001b[0mpass_tf\u001b[0m\u001b[1;33m.\u001b[0m\u001b[0mpredict\u001b[0m\u001b[1;33m(\u001b[0m\u001b[0mtest\u001b[0m\u001b[1;33m)\u001b[0m\u001b[1;33m[\u001b[0m\u001b[1;36m0\u001b[0m\u001b[1;33m]\u001b[0m\u001b[1;33m\u001b[0m\u001b[1;33m\u001b[0m\u001b[0m\n\u001b[0m\u001b[0;32m      4\u001b[0m \u001b[0mpred1\u001b[0m\u001b[1;33m\u001b[0m\u001b[1;33m\u001b[0m\u001b[0m\n",
      "\u001b[1;32m~\\anaconda3\\lib\\site-packages\\sklearn\\linear_model\\_base.py\u001b[0m in \u001b[0;36mpredict\u001b[1;34m(self, X)\u001b[0m\n\u001b[0;32m    307\u001b[0m             \u001b[0mPredicted\u001b[0m \u001b[1;32mclass\u001b[0m \u001b[0mlabel\u001b[0m \u001b[0mper\u001b[0m \u001b[0msample\u001b[0m\u001b[1;33m.\u001b[0m\u001b[1;33m\u001b[0m\u001b[1;33m\u001b[0m\u001b[0m\n\u001b[0;32m    308\u001b[0m         \"\"\"\n\u001b[1;32m--> 309\u001b[1;33m         \u001b[0mscores\u001b[0m \u001b[1;33m=\u001b[0m \u001b[0mself\u001b[0m\u001b[1;33m.\u001b[0m\u001b[0mdecision_function\u001b[0m\u001b[1;33m(\u001b[0m\u001b[0mX\u001b[0m\u001b[1;33m)\u001b[0m\u001b[1;33m\u001b[0m\u001b[1;33m\u001b[0m\u001b[0m\n\u001b[0m\u001b[0;32m    310\u001b[0m         \u001b[1;32mif\u001b[0m \u001b[0mlen\u001b[0m\u001b[1;33m(\u001b[0m\u001b[0mscores\u001b[0m\u001b[1;33m.\u001b[0m\u001b[0mshape\u001b[0m\u001b[1;33m)\u001b[0m \u001b[1;33m==\u001b[0m \u001b[1;36m1\u001b[0m\u001b[1;33m:\u001b[0m\u001b[1;33m\u001b[0m\u001b[1;33m\u001b[0m\u001b[0m\n\u001b[0;32m    311\u001b[0m             \u001b[0mindices\u001b[0m \u001b[1;33m=\u001b[0m \u001b[1;33m(\u001b[0m\u001b[0mscores\u001b[0m \u001b[1;33m>\u001b[0m \u001b[1;36m0\u001b[0m\u001b[1;33m)\u001b[0m\u001b[1;33m.\u001b[0m\u001b[0mastype\u001b[0m\u001b[1;33m(\u001b[0m\u001b[0mint\u001b[0m\u001b[1;33m)\u001b[0m\u001b[1;33m\u001b[0m\u001b[1;33m\u001b[0m\u001b[0m\n",
      "\u001b[1;32m~\\anaconda3\\lib\\site-packages\\sklearn\\linear_model\\_base.py\u001b[0m in \u001b[0;36mdecision_function\u001b[1;34m(self, X)\u001b[0m\n\u001b[0;32m    286\u001b[0m         \u001b[0mn_features\u001b[0m \u001b[1;33m=\u001b[0m \u001b[0mself\u001b[0m\u001b[1;33m.\u001b[0m\u001b[0mcoef_\u001b[0m\u001b[1;33m.\u001b[0m\u001b[0mshape\u001b[0m\u001b[1;33m[\u001b[0m\u001b[1;36m1\u001b[0m\u001b[1;33m]\u001b[0m\u001b[1;33m\u001b[0m\u001b[1;33m\u001b[0m\u001b[0m\n\u001b[0;32m    287\u001b[0m         \u001b[1;32mif\u001b[0m \u001b[0mX\u001b[0m\u001b[1;33m.\u001b[0m\u001b[0mshape\u001b[0m\u001b[1;33m[\u001b[0m\u001b[1;36m1\u001b[0m\u001b[1;33m]\u001b[0m \u001b[1;33m!=\u001b[0m \u001b[0mn_features\u001b[0m\u001b[1;33m:\u001b[0m\u001b[1;33m\u001b[0m\u001b[1;33m\u001b[0m\u001b[0m\n\u001b[1;32m--> 288\u001b[1;33m             raise ValueError(\"X has %d features per sample; expecting %d\"\n\u001b[0m\u001b[0;32m    289\u001b[0m                              % (X.shape[1], n_features))\n\u001b[0;32m    290\u001b[0m \u001b[1;33m\u001b[0m\u001b[0m\n",
      "\u001b[1;31mValueError\u001b[0m: X has 12924 features per sample; expecting 535169"
     ]
    }
   ],
   "source": [
    "text =[\"I have only been on Tekturna for 9 days. The effect was immediate. I am also on a calcium channel blocker (Tiazac) and hydrochlorothiazide. I was put on Tekturna because of palpitations experienced with Diovan (ugly drug in my opinion, same company produces both however). The palpitations were pretty bad on Diovan, 24 hour monitor by EKG etc. After a few days of substituting Tekturna for Diovan, there are no more palpitations.\"]\n",
    "test = tfidf_vectorizer.transform(text)\n",
    "pred1=pass_tf.predict(test)[0]\n",
    "pred1"
   ]
  },
  {
   "cell_type": "code",
   "execution_count": null,
   "id": "0ecb1421",
   "metadata": {},
   "outputs": [],
   "source": [
    "text =[\"I have only been on Tekturna for 9 days. The effect was immediate. I am also on a calcium channel blocker (Tiazac) and hydrochlorothiazide. I was put on Tekturna because of palpitations experienced with Diovan (ugly drug in my opinion, same company produces both however). The palpitations were pretty bad on Diovan, 24 hour monitor by EKG etc. After a few days of substituting Tekturna for Diovan, there are no more palpitations.\"]\n",
    "test = tfidf_vectorizer.transform(text)\n",
    "pred1=pass_tf.predict(test)[0]\n",
    "pred1"
   ]
  },
  {
   "cell_type": "code",
   "execution_count": null,
   "id": "b7087d14",
   "metadata": {},
   "outputs": [],
   "source": [
    "text =[\"This is the third med I&#039;ve tried for anxiety and mild depression. Been on it for a week and I hate it so much. I am so dizzy, I have major diarrhea and feel worse than I started. Contacting my doc in the am and changing asap.\"]\n",
    "test = tfidf_vectorizer.transform(text)\n",
    "pred1=pass_tf.predict(test)[0]\n",
    "pred1"
   ]
  },
  {
   "cell_type": "code",
   "execution_count": null,
   "id": "d9cb0c6f",
   "metadata": {},
   "outputs": [],
   "source": [
    "text =[\"I am deprived of sleep\"]\n",
    "test = tfidf_vectorizer.transform(text)\n",
    "pred1=pass_tf.predict(test)[0]\n",
    "pred1"
   ]
  },
  {
   "cell_type": "code",
   "execution_count": null,
   "id": "463c164e",
   "metadata": {},
   "outputs": [],
   "source": [
    "text =[\"My sugar level went down\"]\n",
    "test = tfidf_vectorizer.transform(text)\n",
    "pred1=pass_tf.predict(test)[0]\n",
    "pred1"
   ]
  },
  {
   "cell_type": "markdown",
   "id": "09fac736",
   "metadata": {},
   "source": [
    " ## Testing on the test dataset "
   ]
  },
  {
   "cell_type": "code",
   "execution_count": null,
   "id": "0a065ba0",
   "metadata": {},
   "outputs": [],
   "source": [
    "df_test=pd.read_csv(\"drugsComTest_raw.tsv\", sep='\\t')"
   ]
  },
  {
   "cell_type": "code",
   "execution_count": null,
   "id": "21fc9467",
   "metadata": {},
   "outputs": [],
   "source": [
    "df_test.shape\n"
   ]
  },
  {
   "cell_type": "code",
   "execution_count": null,
   "id": "87b3175a",
   "metadata": {},
   "outputs": [],
   "source": [
    "Y = df_test[(df_test['condition']=='Urinary Tract Infection') | (df_test['condition']=='Depression') | (df_test['condition']=='High Blood Pressure')|(df_test['condition']=='Diabetes, Type 2')|(df_test['condition']=='Insomnia')]"
   ]
  },
  {
   "cell_type": "code",
   "execution_count": null,
   "id": "7ba62c98",
   "metadata": {},
   "outputs": [],
   "source": [
    "Y = df_test.drop(['Unnamed: 0','drugName','rating','date','usefulCount'],axis=1)"
   ]
  },
  {
   "cell_type": "code",
   "execution_count": null,
   "id": "e586111d",
   "metadata": {},
   "outputs": [],
   "source": [
    "Y.condition.value_counts()"
   ]
  },
  {
   "cell_type": "code",
   "execution_count": null,
   "id": "1711c8f7",
   "metadata": {},
   "outputs": [],
   "source": [
    "Y_uti=Y[(Y['condition']=='Urinary Tract Infection')]\n",
    "Y_dep=Y[(Y['condition']=='Depression')]\n",
    "Y_bp=Y[(Y['condition']=='High Blood Pressure')]\n",
    "Y_diab=Y[(Y['condition']=='Diabetes, Type 2')]\n",
    "Y_ins=Y[(Y['condition']=='Insomnia')]\n"
   ]
  },
  {
   "cell_type": "code",
   "execution_count": null,
   "id": "5751e250",
   "metadata": {},
   "outputs": [],
   "source": [
    "for i, col in enumerate(X.columns):\n",
    "    X.iloc[:, i] = X.iloc[:, i].str.replace('\"', '')"
   ]
  },
  {
   "cell_type": "code",
   "execution_count": null,
   "id": "be2a398f",
   "metadata": {},
   "outputs": [],
   "source": [
    "pd.set_option('max_colwidth', -1)"
   ]
  },
  {
   "cell_type": "code",
   "execution_count": null,
   "id": "e43b0df0",
   "metadata": {},
   "outputs": [],
   "source": [
    "Y.tail(10)"
   ]
  },
  {
   "cell_type": "code",
   "execution_count": null,
   "id": "8a3bb00b",
   "metadata": {},
   "outputs": [],
   "source": [
    "text =[\"I had UTI, usually it goes away with OTC Azo and water, but this time I could not get rid of it. So I went to the ER. They gave me Bactrim. 2 a day for 5 days. I took the entire round of them and nothing changed. The medicine itself made me sick as a dog. I could eat with it or not eat with it and it didn&#039;t matter. I was still so nauseous. It gave me chills and made me dizzy as well. I wouldn&#039;t give this to my worst enemy!\"]\n",
    "test = tfidf_vectorizer.transform(text)\n",
    "pred1=pass_tf.predict(test)[0]\n",
    "pred1"
   ]
  },
  {
   "cell_type": "code",
   "execution_count": null,
   "id": "f5496edd",
   "metadata": {},
   "outputs": [],
   "source": [
    "text =[\"I&#039;ve been using victoza for 3 months now. 1.6 for few weeks then 1.8. I had one night of sickness at beginning and another recently but in general it&#039;s more like the thought of eating food that makes me feel sick. My bowel and stomach feels a lot like I need to have an evacuation but I&#039;ve not had diarrhea. As for weight loss I&#039;ve gone from over 17 stone to 14st 7lbs in 3 months without doing anything. My Hbc1a has dropped from over 25 to around 7.. So everything is pretty amazing. I&#039;m lucky that it&#039;s free for me in UK but it did take a few years to get it prescribed by my diabetic specialist nurse. I don&#039;t know if there are any long term side effects but at present I believe it has changed and saved my life\"]\n",
    "test = tfidf_vectorizer.transform(text)\n",
    "pred1=pass_tf.predict(test)[0]\n",
    "pred1"
   ]
  }
 ],
 "metadata": {
  "kernelspec": {
   "display_name": "Python 3",
   "language": "python",
   "name": "python3"
  },
  "language_info": {
   "codemirror_mode": {
    "name": "ipython",
    "version": 3
   },
   "file_extension": ".py",
   "mimetype": "text/x-python",
   "name": "python",
   "nbconvert_exporter": "python",
   "pygments_lexer": "ipython3",
   "version": "3.8.8"
  }
 },
 "nbformat": 4,
 "nbformat_minor": 5
}
